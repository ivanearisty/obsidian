{
 "cells": [
  {
   "cell_type": "code",
   "execution_count": 1,
   "metadata": {},
   "outputs": [],
   "source": [
    "import pandas as pd;"
   ]
  },
  {
   "cell_type": "code",
   "execution_count": 9,
   "metadata": {},
   "outputs": [],
   "source": [
    "files = {\n",
    "    \"olist_customers_dataset\": \"/Users/suape/WorkDir/Main Vault/Classes + Uni/PDS/MiniProject/DataSource/olist_customers_dataset.csv\",\n",
    "    \"olist_orders_dataset\": \"/Users/suape/WorkDir/Main Vault/Classes + Uni/PDS/MiniProject/DataSource/olist_orders_dataset.csv\",\n",
    "    \"olist_products_dataset\": \"/Users/suape/WorkDir/Main Vault/Classes + Uni/PDS/MiniProject/DataSource/olist_products_dataset.csv\",\n",
    "    \"olist_order_items_dataset\": \"/Users/suape/WorkDir/Main Vault/Classes + Uni/PDS/MiniProject/DataSource/olist_order_items_dataset.csv\",\n",
    "}\n",
    "\n",
    "output_dir = \"/Users/suape/WorkDir/Main Vault/Classes + Uni/PDS/MiniProject/DataSource/cleaned/\"\n",
    "\n",
    "for table_name, input_path in files.items():\n",
    "\n",
    "    df = pd.read_csv(input_path)\n",
    "    \n",
    "\n",
    "    output_path = f\"{output_dir}{table_name}.csv\"\n",
    "    df.to_csv(output_path, index=False, quoting=1) \n"
   ]
  },
  {
   "cell_type": "code",
   "execution_count": 10,
   "metadata": {},
   "outputs": [],
   "source": [
    "file_path = '/Users/suape/WorkDir/Main Vault/Classes + Uni/PDS/MiniProject/DataSource/olist_products_dataset.csv'\n",
    "output_path = '/Users/suape/WorkDir/Main Vault/Classes + Uni/PDS/MiniProject/DataSource/cleaned/olist_products_dataset.csv'\n",
    "\n",
    "df = pd.read_csv(file_path)\n",
    "\n",
    "numeric_columns = [\n",
    "    'product_name_length', \n",
    "    'product_description_length',\n",
    "    'product_photos_qty', \n",
    "    'product_weight_g', \n",
    "    'product_length_cm', \n",
    "    'product_height_cm', \n",
    "    'product_width_cm'\n",
    "]\n",
    "\n",
    "for col in numeric_columns:\n",
    "    df[col] = pd.to_numeric(df[col], errors='coerce') \n",
    "\n",
    "df.fillna({'product_name_length': 0, \n",
    "           'product_description_length': 0, \n",
    "           'product_photos_qty': 0, \n",
    "           'product_weight_g': 0, \n",
    "           'product_length_cm': 0, \n",
    "           'product_height_cm': 0,\n",
    "           'product_width_cm': 0}, \n",
    "           inplace=True)\n",
    "\n",
    "df.to_csv(output_path, index=False, quoting=1) \n"
   ]
  },
  {
   "cell_type": "code",
   "execution_count": 13,
   "metadata": {},
   "outputs": [],
   "source": [
    "file_path = '/Users/suape/WorkDir/Main Vault/Classes + Uni/PDS/MiniProject/DataSource/olist_order_items_dataset.csv'\n",
    "output_path = '/Users/suape/WorkDir/Main Vault/Classes + Uni/PDS/MiniProject/DataSource/cleaned/olist_order_items_dataset.csv'\n",
    "\n",
    "df = pd.read_csv(file_path)\n",
    "\n",
    "# Probably should've done this before for other columns, will look at this later\n",
    "df['shipping_limit_date'] = pd.to_datetime(df['shipping_limit_date'], errors='coerce')\n",
    "\n",
    "numeric_columns = ['order_item_id', 'price', 'freight_value']\n",
    "for col in numeric_columns:\n",
    "    df[col] = pd.to_numeric(df[col], errors='coerce')  \n",
    "\n",
    "df.fillna({'order_item_id': 0,\n",
    "           'price': 0.00,\n",
    "           'freight_value': 0.00}, \n",
    "           inplace=True)\n",
    "\n",
    "df.to_csv(output_path, index=False, quoting=1)  \n"
   ]
  },
  {
   "cell_type": "code",
   "execution_count": null,
   "metadata": {},
   "outputs": [],
   "source": []
  }
 ],
 "metadata": {
  "kernelspec": {
   "display_name": ".venv",
   "language": "python",
   "name": "python3"
  },
  "language_info": {
   "codemirror_mode": {
    "name": "ipython",
    "version": 3
   },
   "file_extension": ".py",
   "mimetype": "text/x-python",
   "name": "python",
   "nbconvert_exporter": "python",
   "pygments_lexer": "ipython3",
   "version": "3.13.1"
  }
 },
 "nbformat": 4,
 "nbformat_minor": 2
}
