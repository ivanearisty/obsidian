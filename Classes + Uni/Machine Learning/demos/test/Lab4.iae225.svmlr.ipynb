{
  "cells": [
    {
      "cell_type": "markdown",
      "metadata": {
        "id": "YLSs1Eby_pPk"
      },
      "source": [
        "# The SVM vs. Logistic Regression Showdown\n",
        "\n",
        "In this lab, you will practice working with non-linear kernels combined with logistic regression and SVM classifiers. The goal is to compare these commonly used techniques. Which comes out on top in terms of accuracy? Runtime? Is there much of a difference at all? Is the dominance of the SVM classifier in machine learning pedagogy justified?"
      ]
    },
    {
      "cell_type": "markdown",
      "metadata": {
        "id": "Msj5mwJs_pPl"
      },
      "source": [
        "## Loading the Data\n",
        "\n",
        "First, we load all the packages we'll need."
      ]
    },
    {
      "cell_type": "code",
      "execution_count": 1,
      "metadata": {
        "id": "5TKE1o5c_pPm"
      },
      "outputs": [],
      "source": [
        "import numpy as np\n",
        "import matplotlib\n",
        "import matplotlib.pyplot as plt\n",
        "%matplotlib inline\n",
        "from sklearn.metrics.pairwise import pairwise_kernels\n",
        "import scipy\n",
        "from sklearn import svm, linear_model\n",
        "from sklearn.model_selection import GridSearchCV\n",
        "import time"
      ]
    },
    {
      "cell_type": "markdown",
      "metadata": {
        "id": "L58cF4Cy_pPn"
      },
      "source": [
        "Again we download the data from the Tensorflow package, which you will need to install.  You can get the data from other sources as well.\n",
        "\n",
        "In the Tensorflow dataset, the training and test data are represented as arrays:\n",
        "\n",
        "     Xtr.shape = 60000 x 28 x 28\n",
        "     Xts.shape = 10000 x 28 x 28\n",
        "     \n",
        "The test data consists of `60000` images of size `28 x 28` pixels; the test data consists of `10000` images."
      ]
    },
    {
      "cell_type": "code",
      "execution_count": 2,
      "metadata": {
        "colab": {
          "base_uri": "https://localhost:8080/"
        },
        "id": "Pigfivuh_pPn",
        "outputId": "380837e4-71bf-4368-8af4-89d821e2931f"
      },
      "outputs": [
        {
          "name": "stdout",
          "output_type": "stream",
          "text": [
            "Downloading data from https://storage.googleapis.com/tensorflow/tf-keras-datasets/mnist.npz\n",
            "\u001b[1m11490434/11490434\u001b[0m \u001b[32m━━━━━━━━━━━━━━━━━━━━\u001b[0m\u001b[37m\u001b[0m \u001b[1m1s\u001b[0m 0us/step\n",
            "Xtr shape: (60000, 28, 28)\n",
            "Xts shape: (10000, 28, 28)\n"
          ]
        }
      ],
      "source": [
        "import tensorflow as tf\n",
        "\n",
        "(Xtr_raw,ytr),(Xts_raw,yts) = tf.keras.datasets.mnist.load_data()\n",
        "\n",
        "print('Xtr shape: %s' % str(Xtr_raw.shape))\n",
        "print('Xts shape: %s' % str(Xts_raw.shape))\n",
        "\n",
        "ntr = Xtr_raw.shape[0]\n",
        "nts = Xts_raw.shape[0]\n",
        "nrow = Xtr_raw.shape[1]\n",
        "ncol = Xtr_raw.shape[2]"
      ]
    },
    {
      "cell_type": "markdown",
      "metadata": {
        "id": "BgE5TO4b_pPo"
      },
      "source": [
        "Each pixel value is from `[0,255]`.  For this lab, it will be convenient to recale the value to -1 to 1 and reshape it as a `ntr x npix` and `nts x npix`."
      ]
    },
    {
      "cell_type": "code",
      "execution_count": 3,
      "metadata": {
        "colab": {
          "base_uri": "https://localhost:8080/"
        },
        "id": "ahZI8kazNihC",
        "outputId": "d01e4339-ba44-4294-f048-e71a835c590f"
      },
      "outputs": [
        {
          "name": "stdout",
          "output_type": "stream",
          "text": [
            "[  0   0   0   0   0   0   0   0   0   0   0   0   0   0   0   0   0   0\n",
            "   0   0   0   0   0   0   0   0   0   0   0   0   0   0   0   0   0   0\n",
            "   0   0   0   0   0   0   0   0   0   0   0   0   0   0   0   0   0   0\n",
            "   0   0   0   0   0   0   0   0   0   0   0   0   0   0   0   0   0   0\n",
            "   0   0   0   0   0   0   0   0   0   0   0   0   0   0   0   0   0   0\n",
            "   0   0   0   0   0   0   0   0   0   0   0   0   0   0   0   0   0   0\n",
            "   0   0   0   0   0   0   0   0   0   0   0   0   0   0   0   0   0   0\n",
            "   0  51 159 253 159  50   0   0   0   0   0   0   0   0   0   0   0   0\n",
            "   0   0   0   0   0   0   0   0   0   0  48 238 252 252 252 237   0   0\n",
            "   0   0   0   0   0   0   0   0   0   0   0   0   0   0   0   0   0   0\n",
            "   0  54 227 253 252 239 233 252  57   6   0   0   0   0   0   0   0   0\n",
            "   0   0   0   0   0   0   0   0   0  10  60 224 252 253 252 202  84 252\n",
            " 253 122   0   0   0   0   0   0   0   0   0   0   0   0   0   0   0   0\n",
            "   0 163 252 252 252 253 252 252  96 189 253 167   0   0   0   0   0   0\n",
            "   0   0   0   0   0   0   0   0   0   0  51 238 253 253 190 114 253 228\n",
            "  47  79 255 168   0   0   0   0   0   0   0   0   0   0   0   0   0   0\n",
            "   0  48 238 252 252 179  12  75 121  21   0   0 253 243  50   0   0   0\n",
            "   0   0   0   0   0   0   0   0   0   0  38 165 253 233 208  84   0   0\n",
            "   0   0   0   0 253 252 165   0   0   0   0   0   0   0   0   0   0   0\n",
            "   0   7 178 252 240  71  19  28   0   0   0   0   0   0 253 252 195   0\n",
            "   0   0   0   0   0   0   0   0   0   0   0  57 252 252  63   0   0   0\n",
            "   0   0   0   0   0   0 253 252 195   0   0   0   0   0   0   0   0   0\n",
            "   0   0   0 198 253 190   0   0   0   0   0   0   0   0   0   0 255 253\n",
            " 196   0   0   0   0   0   0   0   0   0   0   0  76 246 252 112   0   0\n",
            "   0   0   0   0   0   0   0   0 253 252 148   0   0   0   0   0   0   0\n",
            "   0   0   0   0  85 252 230  25   0   0   0   0   0   0   0   0   7 135\n",
            " 253 186  12   0   0   0   0   0   0   0   0   0   0   0  85 252 223   0\n",
            "   0   0   0   0   0   0   0   7 131 252 225  71   0   0   0   0   0   0\n",
            "   0   0   0   0   0   0  85 252 145   0   0   0   0   0   0   0  48 165\n",
            " 252 173   0   0   0   0   0   0   0   0   0   0   0   0   0   0  86 253\n",
            " 225   0   0   0   0   0   0 114 238 253 162   0   0   0   0   0   0   0\n",
            "   0   0   0   0   0   0   0   0  85 252 249 146  48  29  85 178 225 253\n",
            " 223 167  56   0   0   0   0   0   0   0   0   0   0   0   0   0   0   0\n",
            "  85 252 252 252 229 215 252 252 252 196 130   0   0   0   0   0   0   0\n",
            "   0   0   0   0   0   0   0   0   0   0  28 199 252 252 253 252 252 233\n",
            " 145   0   0   0   0   0   0   0   0   0   0   0   0   0   0   0   0   0\n",
            "   0   0   0  25 128 252 253 252 141  37   0   0   0   0   0   0   0   0\n",
            "   0   0   0   0   0   0   0   0   0   0   0   0   0   0   0   0   0   0\n",
            "   0   0   0   0   0   0   0   0   0   0   0   0   0   0   0   0   0   0\n",
            "   0   0   0   0   0   0   0   0   0   0   0   0   0   0   0   0   0   0\n",
            "   0   0   0   0   0   0   0   0   0   0   0   0   0   0   0   0   0   0\n",
            "   0   0   0   0   0   0   0   0   0   0   0   0   0   0   0   0   0   0\n",
            "   0   0   0   0   0   0   0   0   0   0   0   0   0   0   0   0   0   0\n",
            "   0   0   0   0   0   0   0   0   0   0]\n",
            "[-0.5        -0.5        -0.5        -0.5        -0.5        -0.5\n",
            " -0.5        -0.5        -0.5        -0.5        -0.5        -0.5\n",
            " -0.5        -0.5        -0.5        -0.5        -0.5        -0.5\n",
            " -0.5        -0.5        -0.5        -0.5        -0.5        -0.5\n",
            " -0.5        -0.5        -0.5        -0.5        -0.5        -0.5\n",
            " -0.5        -0.5        -0.5        -0.5        -0.5        -0.5\n",
            " -0.5        -0.5        -0.5        -0.5        -0.5        -0.5\n",
            " -0.5        -0.5        -0.5        -0.5        -0.5        -0.5\n",
            " -0.5        -0.5        -0.5        -0.5        -0.5        -0.5\n",
            " -0.5        -0.5        -0.5        -0.5        -0.5        -0.5\n",
            " -0.5        -0.5        -0.5        -0.5        -0.5        -0.5\n",
            " -0.5        -0.5        -0.5        -0.5        -0.5        -0.5\n",
            " -0.5        -0.5        -0.5        -0.5        -0.5        -0.5\n",
            " -0.5        -0.5        -0.5        -0.5        -0.5        -0.5\n",
            " -0.5        -0.5        -0.5        -0.5        -0.5        -0.5\n",
            " -0.5        -0.5        -0.5        -0.5        -0.5        -0.5\n",
            " -0.5        -0.5        -0.5        -0.5        -0.5        -0.5\n",
            " -0.5        -0.5        -0.5        -0.5        -0.5        -0.5\n",
            " -0.5        -0.5        -0.5        -0.5        -0.5        -0.5\n",
            " -0.5        -0.5        -0.5        -0.5        -0.5        -0.5\n",
            " -0.5        -0.5        -0.5        -0.5        -0.5        -0.5\n",
            " -0.5        -0.3         0.12352941  0.49215686  0.12352941 -0.30392157\n",
            " -0.5        -0.5        -0.5        -0.5        -0.5        -0.5\n",
            " -0.5        -0.5        -0.5        -0.5        -0.5        -0.5\n",
            " -0.5        -0.5        -0.5        -0.5        -0.5        -0.5\n",
            " -0.5        -0.5        -0.5        -0.5        -0.31176471  0.43333333\n",
            "  0.48823529  0.48823529  0.48823529  0.42941176 -0.5        -0.5\n",
            " -0.5        -0.5        -0.5        -0.5        -0.5        -0.5\n",
            " -0.5        -0.5        -0.5        -0.5        -0.5        -0.5\n",
            " -0.5        -0.5        -0.5        -0.5        -0.5        -0.5\n",
            " -0.5        -0.28823529  0.39019608  0.49215686  0.48823529  0.4372549\n",
            "  0.41372549  0.48823529 -0.27647059 -0.47647059 -0.5        -0.5\n",
            " -0.5        -0.5        -0.5        -0.5        -0.5        -0.5\n",
            " -0.5        -0.5        -0.5        -0.5        -0.5        -0.5\n",
            " -0.5        -0.5        -0.5        -0.46078431 -0.26470588  0.37843137\n",
            "  0.48823529  0.49215686  0.48823529  0.29215686 -0.17058824  0.48823529\n",
            "  0.49215686 -0.02156863 -0.5        -0.5        -0.5        -0.5\n",
            " -0.5        -0.5        -0.5        -0.5        -0.5        -0.5\n",
            " -0.5        -0.5        -0.5        -0.5        -0.5        -0.5\n",
            " -0.5         0.13921569  0.48823529  0.48823529  0.48823529  0.49215686\n",
            "  0.48823529  0.48823529 -0.12352941  0.24117647  0.49215686  0.15490196\n",
            " -0.5        -0.5        -0.5        -0.5        -0.5        -0.5\n",
            " -0.5        -0.5        -0.5        -0.5        -0.5        -0.5\n",
            " -0.5        -0.5        -0.5        -0.5        -0.3         0.43333333\n",
            "  0.49215686  0.49215686  0.24509804 -0.05294118  0.49215686  0.39411765\n",
            " -0.31568627 -0.19019608  0.5         0.15882353 -0.5        -0.5\n",
            " -0.5        -0.5        -0.5        -0.5        -0.5        -0.5\n",
            " -0.5        -0.5        -0.5        -0.5        -0.5        -0.5\n",
            " -0.5        -0.31176471  0.43333333  0.48823529  0.48823529  0.20196078\n",
            " -0.45294118 -0.20588235 -0.0254902  -0.41764706 -0.5        -0.5\n",
            "  0.49215686  0.45294118 -0.30392157 -0.5        -0.5        -0.5\n",
            " -0.5        -0.5        -0.5        -0.5        -0.5        -0.5\n",
            " -0.5        -0.5        -0.5        -0.5        -0.35098039  0.14705882\n",
            "  0.49215686  0.41372549  0.31568627 -0.17058824 -0.5        -0.5\n",
            " -0.5        -0.5        -0.5        -0.5         0.49215686  0.48823529\n",
            "  0.14705882 -0.5        -0.5        -0.5        -0.5        -0.5\n",
            " -0.5        -0.5        -0.5        -0.5        -0.5        -0.5\n",
            " -0.5        -0.47254902  0.19803922  0.48823529  0.44117647 -0.22156863\n",
            " -0.4254902  -0.39019608 -0.5        -0.5        -0.5        -0.5\n",
            " -0.5        -0.5         0.49215686  0.48823529  0.26470588 -0.5\n",
            " -0.5        -0.5        -0.5        -0.5        -0.5        -0.5\n",
            " -0.5        -0.5        -0.5        -0.5        -0.5        -0.27647059\n",
            "  0.48823529  0.48823529 -0.25294118 -0.5        -0.5        -0.5\n",
            " -0.5        -0.5        -0.5        -0.5        -0.5        -0.5\n",
            "  0.49215686  0.48823529  0.26470588 -0.5        -0.5        -0.5\n",
            " -0.5        -0.5        -0.5        -0.5        -0.5        -0.5\n",
            " -0.5        -0.5        -0.5         0.27647059  0.49215686  0.24509804\n",
            " -0.5        -0.5        -0.5        -0.5        -0.5        -0.5\n",
            " -0.5        -0.5        -0.5        -0.5         0.5         0.49215686\n",
            "  0.26862745 -0.5        -0.5        -0.5        -0.5        -0.5\n",
            " -0.5        -0.5        -0.5        -0.5        -0.5        -0.5\n",
            " -0.20196078  0.46470588  0.48823529 -0.06078431 -0.5        -0.5\n",
            " -0.5        -0.5        -0.5        -0.5        -0.5        -0.5\n",
            " -0.5        -0.5         0.49215686  0.48823529  0.08039216 -0.5\n",
            " -0.5        -0.5        -0.5        -0.5        -0.5        -0.5\n",
            " -0.5        -0.5        -0.5        -0.5        -0.16666667  0.48823529\n",
            "  0.40196078 -0.40196078 -0.5        -0.5        -0.5        -0.5\n",
            " -0.5        -0.5        -0.5        -0.5        -0.47254902  0.02941176\n",
            "  0.49215686  0.22941176 -0.45294118 -0.5        -0.5        -0.5\n",
            " -0.5        -0.5        -0.5        -0.5        -0.5        -0.5\n",
            " -0.5        -0.5        -0.16666667  0.48823529  0.3745098  -0.5\n",
            " -0.5        -0.5        -0.5        -0.5        -0.5        -0.5\n",
            " -0.5        -0.47254902  0.01372549  0.48823529  0.38235294 -0.22156863\n",
            " -0.5        -0.5        -0.5        -0.5        -0.5        -0.5\n",
            " -0.5        -0.5        -0.5        -0.5        -0.5        -0.5\n",
            " -0.16666667  0.48823529  0.06862745 -0.5        -0.5        -0.5\n",
            " -0.5        -0.5        -0.5        -0.5        -0.31176471  0.14705882\n",
            "  0.48823529  0.17843137 -0.5        -0.5        -0.5        -0.5\n",
            " -0.5        -0.5        -0.5        -0.5        -0.5        -0.5\n",
            " -0.5        -0.5        -0.5        -0.5        -0.1627451   0.49215686\n",
            "  0.38235294 -0.5        -0.5        -0.5        -0.5        -0.5\n",
            " -0.5        -0.05294118  0.43333333  0.49215686  0.13529412 -0.5\n",
            " -0.5        -0.5        -0.5        -0.5        -0.5        -0.5\n",
            " -0.5        -0.5        -0.5        -0.5        -0.5        -0.5\n",
            " -0.5        -0.5        -0.16666667  0.48823529  0.47647059  0.07254902\n",
            " -0.31176471 -0.38627451 -0.16666667  0.19803922  0.38235294  0.49215686\n",
            "  0.3745098   0.15490196 -0.28039216 -0.5        -0.5        -0.5\n",
            " -0.5        -0.5        -0.5        -0.5        -0.5        -0.5\n",
            " -0.5        -0.5        -0.5        -0.5        -0.5        -0.5\n",
            " -0.16666667  0.48823529  0.48823529  0.48823529  0.39803922  0.34313725\n",
            "  0.48823529  0.48823529  0.48823529  0.26862745  0.00980392 -0.5\n",
            " -0.5        -0.5        -0.5        -0.5        -0.5        -0.5\n",
            " -0.5        -0.5        -0.5        -0.5        -0.5        -0.5\n",
            " -0.5        -0.5        -0.5        -0.5        -0.39019608  0.28039216\n",
            "  0.48823529  0.48823529  0.49215686  0.48823529  0.48823529  0.41372549\n",
            "  0.06862745 -0.5        -0.5        -0.5        -0.5        -0.5\n",
            " -0.5        -0.5        -0.5        -0.5        -0.5        -0.5\n",
            " -0.5        -0.5        -0.5        -0.5        -0.5        -0.5\n",
            " -0.5        -0.5        -0.5        -0.40196078  0.00196078  0.48823529\n",
            "  0.49215686  0.48823529  0.05294118 -0.35490196 -0.5        -0.5\n",
            " -0.5        -0.5        -0.5        -0.5        -0.5        -0.5\n",
            " -0.5        -0.5        -0.5        -0.5        -0.5        -0.5\n",
            " -0.5        -0.5        -0.5        -0.5        -0.5        -0.5\n",
            " -0.5        -0.5        -0.5        -0.5        -0.5        -0.5\n",
            " -0.5        -0.5        -0.5        -0.5        -0.5        -0.5\n",
            " -0.5        -0.5        -0.5        -0.5        -0.5        -0.5\n",
            " -0.5        -0.5        -0.5        -0.5        -0.5        -0.5\n",
            " -0.5        -0.5        -0.5        -0.5        -0.5        -0.5\n",
            " -0.5        -0.5        -0.5        -0.5        -0.5        -0.5\n",
            " -0.5        -0.5        -0.5        -0.5        -0.5        -0.5\n",
            " -0.5        -0.5        -0.5        -0.5        -0.5        -0.5\n",
            " -0.5        -0.5        -0.5        -0.5        -0.5        -0.5\n",
            " -0.5        -0.5        -0.5        -0.5        -0.5        -0.5\n",
            " -0.5        -0.5        -0.5        -0.5        -0.5        -0.5\n",
            " -0.5        -0.5        -0.5        -0.5        -0.5        -0.5\n",
            " -0.5        -0.5        -0.5        -0.5        -0.5        -0.5\n",
            " -0.5        -0.5        -0.5        -0.5        -0.5        -0.5\n",
            " -0.5        -0.5        -0.5        -0.5        -0.5        -0.5\n",
            " -0.5        -0.5        -0.5        -0.5        -0.5        -0.5\n",
            " -0.5        -0.5        -0.5        -0.5        -0.5        -0.5\n",
            " -0.5        -0.5        -0.5        -0.5       ]\n"
          ]
        }
      ],
      "source": [
        "npix = nrow*ncol\n",
        "Xtr = Xtr_raw.reshape((ntr,npix))\n",
        "print(Xtr[1,:])\n",
        "Xtr = (Xtr/255 - .5)\n",
        "print(Xtr[1,:])"
      ]
    },
    {
      "cell_type": "code",
      "execution_count": 4,
      "metadata": {
        "id": "QE-50PdU_pPo"
      },
      "outputs": [],
      "source": [
        "npix = nrow*ncol\n",
        "Xtr = (Xtr_raw/255 - 0.5)\n",
        "Xtr = Xtr.reshape((ntr,npix))\n",
        "\n",
        "Xts = (Xts_raw/255 - 0.5)\n",
        "Xts = Xts.reshape((nts,npix))"
      ]
    },
    {
      "cell_type": "code",
      "execution_count": 5,
      "metadata": {
        "colab": {
          "base_uri": "https://localhost:8080/"
        },
        "id": "LqDWXC9yN6JH",
        "outputId": "5d65352c-ee7c-49b7-e541-2a0aa994eb0d"
      },
      "outputs": [
        {
          "name": "stdout",
          "output_type": "stream",
          "text": [
            "[[-0.5 -0.5 -0.5 ... -0.5 -0.5 -0.5]\n",
            " [-0.5 -0.5 -0.5 ... -0.5 -0.5 -0.5]\n",
            " [-0.5 -0.5 -0.5 ... -0.5 -0.5 -0.5]\n",
            " ...\n",
            " [-0.5 -0.5 -0.5 ... -0.5 -0.5 -0.5]\n",
            " [-0.5 -0.5 -0.5 ... -0.5 -0.5 -0.5]\n",
            " [-0.5 -0.5 -0.5 ... -0.5 -0.5 -0.5]]\n"
          ]
        }
      ],
      "source": [
        "print(Xtr)"
      ]
    },
    {
      "cell_type": "markdown",
      "metadata": {
        "id": "frhehbKs_pPo"
      },
      "source": [
        "For this lab we're only going to use a fraction of the MNIST data -- otherwise our models will take too much time and memory to run. Using only part of the training data will of course lead to worse results. Given enough computational resources and time, we would ideally be running on the full data set. The follow code creates a new test and train set, with 10000 examples for train and 5000 for test."
      ]
    },
    {
      "cell_type": "code",
      "execution_count": 6,
      "metadata": {
        "id": "cUHbBwL1_pPp"
      },
      "outputs": [],
      "source": [
        "ntr1 = 10000\n",
        "nts1 = 5000\n",
        "Iperm = np.random.permutation(ntr1)\n",
        "Xtr1 = Xtr[Iperm[:ntr1],:]\n",
        "ytr1 = ytr[Iperm[:ntr1]]\n",
        "Iperm = np.random.permutation(nts1)\n",
        "Xts1 = Xts[Iperm[:nts1],:]\n",
        "yts1 = yts[Iperm[:nts1]]"
      ]
    },
    {
      "cell_type": "markdown",
      "metadata": {
        "id": "mlz6g-X8_pPq"
      },
      "source": [
        "## Problem set up and establishing a baseline"
      ]
    },
    {
      "cell_type": "markdown",
      "metadata": {
        "id": "T90pjHcr_pPq"
      },
      "source": [
        "To simplify the problem (and speed things up) we're also going to restrict to binary classification. In particular, let's try to design classifier a that separates the 8's from all other digits.\n",
        "\n",
        "Create binary 0/1 label vectors `ytr8` and `yts8` which are 1 wherever `ytr1` and `yts1` equal 8, and 0 everywhere else."
      ]
    },
    {
      "cell_type": "code",
      "execution_count": null,
      "metadata": {
        "id": "q6Flo-KS_pPq"
      },
      "outputs": [
        {
          "name": "stdout",
          "output_type": "stream",
          "text": [
            "[0 1 0 ... 1 0 0]\n",
            "[0 0 0 ... 0 0 1]\n"
          ]
        }
      ],
      "source": [
        "ytr8 = (ytr1 == 8).astype(int)\n",
        "yts8 = (yts1 == 8).astype(int)\n",
        "print(ytr8)\n",
        "print(yts8)"
      ]
    },
    {
      "cell_type": "markdown",
      "metadata": {
        "id": "UdT2KGyj_pPr"
      },
      "source": [
        "Most of the digits in the test dataset aren't equal to 8. So if we simply guess 0 for every image in `Xts`, we might expect to get classification accuracy around 90%. Our goal should be to significantly beat this **baseline**.\n",
        "\n",
        "Formally, write a few lines of code to check what test error would be achieved by the all zeros classifier."
      ]
    },
    {
      "cell_type": "code",
      "execution_count": null,
      "metadata": {
        "id": "3JweYada_pPr"
      },
      "outputs": [
        {
          "name": "stdout",
          "output_type": "stream",
          "text": [
            "All Zeros Accuracy = 90.22%\n"
          ]
        }
      ],
      "source": [
        "all_zeros_acc = np.mean(yts8 == 0)\n",
        "print('All Zeros Accuracy = {0:.2f}%'.format(all_zeros_acc * 100))\n"
      ]
    },
    {
      "cell_type": "markdown",
      "metadata": {
        "id": "oz_7u10V_pPr"
      },
      "source": [
        "As a second baseline, let's see how we do with standard (non-kernel) logistic regression. As in the MNIST demo, you can use `scikit-learn`'s built in function `linear_model.LogisticRegression` to fit the model and compute the accuracy. Use no regularization and the `lbfgs` solver. You should acheive an improvement to around 93-95%."
      ]
    },
    {
      "cell_type": "code",
      "execution_count": 25,
      "metadata": {
        "id": "oocR_r9C_pPr"
      },
      "outputs": [
        {
          "name": "stdout",
          "output_type": "stream",
          "text": [
            "LR Accuracy = 93.60%\n"
          ]
        }
      ],
      "source": [
        "lr = linear_model.LogisticRegression(solver='lbfgs', C=1e10, max_iter=1000)\n",
        "lr.fit(Xtr1, ytr8)\n",
        "lr_preds = lr.predict(Xts1)\n",
        "lr_acc = np.mean(lr_preds == yts8)\n",
        "print('LR Accuracy = {0:.2f}%'.format(lr_acc * 100))\n"
      ]
    },
    {
      "cell_type": "markdown",
      "metadata": {
        "id": "aXuJVilo_pPr"
      },
      "source": [
        "## Kernel Logistic Regression\n",
        "\n",
        "To improve on this baseline performance, let's try using the logistic regression classifier with a *non-linear* kernel. Recall from class that any non-linear kernel similarity function $k(\\vec{w},\\vec{z})$ is equal to $\\phi(\\vec{w})^T\\phi(\\vec{z})$ for some feature transformation $\\phi$. However, we typically do not need to compute this feature tranformation explicitly: instead we can work directly with the kernel gram matrix $K \\in \\mathbb{R}^{n\\times n}$. Recall that $K_{i,j} = k(\\vec{x}_i,\\vec{x}_j)$ where $\\vec{x}_i$ is the $i^\\text{th}$ training data point.\n",
        "\n",
        "For this lab we will be using the radial basis function kernel. For a given scaling factor $\\gamma$ this kernel is defined as:\n",
        "$$\n",
        "k(\\vec{w},\\vec{z}) = e^{-\\gamma\\|\\vec{w}-\\vec{z}\\|_2^2}\n",
        "$$"
      ]
    },
    {
      "cell_type": "code",
      "execution_count": null,
      "metadata": {
        "id": "q8znIoWi_pPs"
      },
      "outputs": [],
      "source": [
        "def rbf_kernel(w,z,gamma):\n",
        "    d = w - z\n",
        "    return np.exp(-gamma*np.sum(d*d))"
      ]
    },
    {
      "cell_type": "markdown",
      "metadata": {
        "id": "1WFi15JF_pPs"
      },
      "source": [
        "Construct the kernel matrix `K1` for `Xtr1` with `gamma = .05`."
      ]
    },
    {
      "cell_type": "code",
      "execution_count": null,
      "metadata": {
        "id": "9PBzA-5__pPs"
      },
      "outputs": [],
      "source": [
        "gamma = .05\n",
        "K1 = np.zeros((ntr1, ntr1))\n",
        "for i in range(ntr1):\n",
        "    for j in range(ntr1):\n",
        "        K1[i, j] = rbf_kernel(Xtr1[i], Xtr1[j], gamma)"
      ]
    },
    {
      "cell_type": "markdown",
      "metadata": {
        "id": "wB_X-JOR_pPs"
      },
      "source": [
        "If you used a for loop (which is fine) your code might take several minutes to run! Part of the issue is that Python won't know to properly parallize your for loop. For this reason, when constructing kernel matrices it is often faster to us a built-in, carefully optimized function with explicit parallelization. Scikit learn provides such a function through their `metrics` library.\n",
        "\n",
        "Referring to the documentation here\n",
        "https://scikit-learn.org/stable/modules/metrics.html#metrics, use this built in function to recreate the same kernel matrix you did above. Store the result at `K`."
      ]
    },
    {
      "cell_type": "code",
      "execution_count": 28,
      "metadata": {
        "id": "Nhd-xFsn_pPt"
      },
      "outputs": [],
      "source": [
        "K = pairwise_kernels(Xtr1, Xtr1, metric='rbf', gamma=gamma)"
      ]
    },
    {
      "cell_type": "markdown",
      "metadata": {
        "id": "CO9CnBbN_pPt"
      },
      "source": [
        "Check that you used the function correctly by writing code to confirm that `K = K1`, or at least that the two are equal up to very small differences (which could arise due to numerical precision issues). Try to do this **without a for loop** for full credit. You will get partial credit if you use a for loop."
      ]
    },
    {
      "cell_type": "code",
      "execution_count": 29,
      "metadata": {
        "id": "SCOfrRRD_pPt"
      },
      "outputs": [
        {
          "name": "stdout",
          "output_type": "stream",
          "text": [
            "Maximum difference between matrices: 1.765254609153999e-14\n",
            "Matrices are effectively equal: True\n"
          ]
        }
      ],
      "source": [
        "difference = np.max(np.abs(K - K1))\n",
        "print(f\"Maximum difference between matrices: {difference}\")\n",
        "\n",
        "difference2 = np.allclose(K, K1)\n",
        "print(f\"Matrices are effectively equal: {difference2}\")"
      ]
    },
    {
      "cell_type": "markdown",
      "metadata": {
        "id": "jrIT1xJL_pPt"
      },
      "source": [
        "When using a non-linear kernel, it is important to check that you have chosen reasonable parameters (in our case the only parameter is `gamma`). We typically do not want $k(\\vec{x}_i,\\vec{x}_j)$ to be either negligably small, or very large for all $i\\neq j$ in our data set, or we won't be able to learn anything. For the RBF kernel this means that, for any $\\vec{x}_i$ we don't want $k(\\vec{x}_i,\\vec{x}_j)$ very close to 1 (e.g. .9999) for all $j$, or very close to $0$ (e.g. 1e-8) for all $j$.\n",
        "\n",
        "Let's just check that we're in good shape for the first data vector $\\vec{x}_0$. Do so by printing out the 10 largest and 10 smallest values of $k(\\vec{x}_0,\\vec{x}_j)$ for $j\\neq 0$. Note that we always have $k(\\vec{x}_0,\\vec{x}_0) = 1$ for the RBF kernel."
      ]
    },
    {
      "cell_type": "code",
      "execution_count": null,
      "metadata": {
        "id": "z2yZ-vdt_pPt"
      },
      "outputs": [
        {
          "name": "stdout",
          "output_type": "stream",
          "text": [
            "Maximum similarities: \n",
            "[0.07580635 0.08055649 0.08568271 0.08904923 0.10209036 0.10698518\n",
            " 0.11096823 0.16795797 0.18964078 0.22482328]\n",
            "Minimum similarities: \n",
            "[5.72009736e-05 1.14743427e-04 1.19927539e-04 1.23629394e-04\n",
            " 1.28781213e-04 1.28974951e-04 1.30022886e-04 1.54589014e-04\n",
            " 1.67103086e-04 1.69195844e-04]\n"
          ]
        }
      ],
      "source": [
        "similarities = K[0, 1:]\n",
        "sorted_similarities = np.sort(similarities)\n",
        "\n",
        "print('Maximum similarities: \\n' + str(sorted_similarities[-10:]))\n",
        "print('Minimum similarities: \\n' + str(sorted_similarities[:10]))"
      ]
    },
    {
      "cell_type": "markdown",
      "metadata": {
        "id": "B0Vfxdfu_pPu"
      },
      "source": [
        "### Implementation\n",
        "Maybe surprisingly Scikit learn does not have an implementation for kernel logistic regression. So we have to implement our own!\n",
        "\n",
        "Write a function function `log_fit` that minimizes the $\\ell_2$-regularized logisitic regression loss:\n",
        "$$\n",
        "L(\\boldsymbol{\\alpha}) =\\sum_{i=1}^n (1-y_i)(\\phi(\\mathbf{x}_i)^T\\phi(\\mathbf{X})^T\\vec{\\alpha}) - \\log(h(\\phi(\\mathbf{x}_i)^T\\phi(\\mathbf{X})^T\\boldsymbol{\\alpha}) + \\lambda \\|\\phi(\\mathbf{X})^T\\boldsymbol{\\alpha}\\|_2^2.\n",
        "$$\n",
        "As input it takes an $n\\times n$ kernel matrix $K$ for the training data, an $n$ length vector `y` of binary class labels, and regularization parameter `lamb`.\n",
        "\n",
        "To implement your function you can either use your own implmentation of gradient descent or used a built in minimizer from `scipy.optimize.minimize`. I recommend the later approach: as we saw in the last lab, gradient descent can converge slowly for this objective."
      ]
    },
    {
      "cell_type": "code",
      "execution_count": null,
      "metadata": {},
      "outputs": [],
      "source": [
        "def loss_function(alpha, K, y, lamb):\n",
        "    # Compute the loss function for the SVM\n",
        "\n",
        "    # Decision scores\n",
        "    scores = K @ alpha\n",
        "\n",
        "    # log(1/(1+exp(-z))) = -log(1+exp(-z))\n",
        "    # For positive z: -log(1+exp(-z))\n",
        "    # For negative z: -z-log(1+exp(z))\n",
        "    pos_idx = scores >= 0\n",
        "    neg_idx = ~pos_idx\n",
        "\n",
        "    # Setup log_term\n",
        "    log_term = np.zeros_like(scores)\n",
        "\n",
        "    # Compute log_term for positive and negative scores\n",
        "    log_term[pos_idx] = np.log(1 + np.exp(-scores[pos_idx]))\n",
        "    log_term[neg_idx] = -scores[neg_idx] + np.log(1 + np.exp(scores[neg_idx]))\n",
        "\n",
        "    # First term: contribution from negative examples\n",
        "    # Second term: contribution from positive examples\n",
        "    # Third term: regularization\n",
        "    return np.sum((1-y) * scores + log_term) + lamb * (alpha.T @ K @ alpha)"
      ]
    },
    {
      "cell_type": "code",
      "execution_count": 36,
      "metadata": {},
      "outputs": [],
      "source": [
        "def gradient_function(alpha, K, y, lamb):\n",
        "    # Compute decision scores\n",
        "    scores = K @ alpha\n",
        "    # Compute predicted probabilities using sigmoid\n",
        "    probs = 1 / (1 + np.exp(-scores))\n",
        "    # Compute gradient\n",
        "    grad = K @ (probs - y) + 2 * lamb * (K @ alpha)\n",
        "    return grad\n"
      ]
    },
    {
      "cell_type": "code",
      "execution_count": 40,
      "metadata": {
        "id": "jbG3rpY7_pPu"
      },
      "outputs": [],
      "source": [
        "def log_fit(K,y,lamb,nit=1000):\n",
        "    n = K.shape[0]\n",
        "    zeroes = np.zeros(n)\n",
        "\n",
        "    # Gradient descent\n",
        "    result = scipy.optimize.minimize(\n",
        "        fun=loss_function,\n",
        "        x0=zeroes,\n",
        "        args=(K, y, lamb),\n",
        "        jac=gradient_function,\n",
        "        method='L-BFGS-B',\n",
        "        options={'maxiter': nit}\n",
        "    )\n",
        "\n",
        "    return result.x"
      ]
    },
    {
      "cell_type": "markdown",
      "metadata": {
        "id": "PC4MZYmXMAmY"
      },
      "source": [
        "Use the `log_fit` function defined above to find parameters `alpha` for the kernel logistic regression model using `lamb = 0` and `K` as constructed above (with `gamma = .05`)."
      ]
    },
    {
      "cell_type": "markdown",
      "metadata": {
        "id": "VZXI3kz2_pPu"
      },
      "source": [
        "Suppose we have a test dataset with $m$ examples $\\vec{w}_1,\\ldots, \\vec{w}_m$. Once we obtain a coefficient vector $\\alpha$, making predictions for any $\\vec{w}_j$ in the test set requires computing:\n",
        "$$\n",
        "{y}_{j} = \\sum_{i=1}^n \\alpha_i \\cdot k(\\vec{w}_{j}, \\vec{x}_i).\n",
        "$$\n",
        "where $\\vec{x}_1, \\ldots \\vec{x}_n$ are our training data vectors. We classify $\\vec{w}_{j}$ in class 0 if ${y}_{j} \\leq 0$ and in class 1 if ${y}_{j} > 0$.\n",
        "\n",
        "This computation can be rewritten in matrix form as follows:\n",
        "$$\n",
        "\\vec{y}_{test} = K_{test}\\vec{\\alpha},\n",
        "$$\n",
        "where $\\vec{y}_{text}$ is an $m$ length vector and $K_{test}$ is a $m\\times n$ matrix whose $(j,i)$ entry is equal to $k(\\vec{w}_{j}, \\vec{x}_i)$. We classify $\\vec{w}_{j}$ in class 0 if $\\vec{y}_{test}[j] \\leq 0$ and in class 1 if $\\vec{y}_{test}[j] > 0$.\n"
      ]
    },
    {
      "cell_type": "markdown",
      "metadata": {
        "id": "U6BhIPrH_pPv"
      },
      "source": [
        "Use the `pairwise_kernels` function to construct $K_{test}$. Then make predictions for the test set and evaluate the accuracy of our kernel logistic regression classifier. You should see a pretty substantial lift in accuracy to around $97\\%$"
      ]
    },
    {
      "cell_type": "code",
      "execution_count": null,
      "metadata": {
        "id": "bNW1cYbjMBwj"
      },
      "outputs": [],
      "source": [
        "alpha = log_fit(K, ytr8, lamb=0)\n",
        "\n",
        "Ktest = pairwise_kernels(Xts1, Xtr1, metric='rbf', gamma=gamma)\n",
        "\n",
        "y_score = Ktest @ alpha\n",
        "yhat = (y_score > 0).astype(int)\n",
        "acc = np.mean(yhat == yts8)"
      ]
    },
    {
      "cell_type": "code",
      "execution_count": 43,
      "metadata": {},
      "outputs": [
        {
          "name": "stdout",
          "output_type": "stream",
          "text": [
            "Test accuracy = 0.979800\n"
          ]
        }
      ],
      "source": [
        "print(\"Test accuracy = %f\" % acc)"
      ]
    },
    {
      "cell_type": "markdown",
      "metadata": {
        "id": "l2SO0yhM_pPv"
      },
      "source": [
        "## Kernel Support Vector Machine"
      ]
    },
    {
      "cell_type": "markdown",
      "metadata": {
        "id": "o9x1jZnh_pPv"
      },
      "source": [
        "The goal of this lab is to compare Kernel Logistic Regression to Kernel Support Vector machines. Following `demo_mnist_svm.ipynb` create and train an SVM classifier on `Xtr1` and `ytr8` using an RBF kernel with `gamma = .05` (the same value we used for logistic regression aboe). Use margin parameter `C = 10`."
      ]
    },
    {
      "cell_type": "code",
      "execution_count": 44,
      "metadata": {
        "id": "7r-c_g2z_pPv"
      },
      "outputs": [
        {
          "data": {
            "text/html": [
              "<style>#sk-container-id-1 {\n",
              "  /* Definition of color scheme common for light and dark mode */\n",
              "  --sklearn-color-text: #000;\n",
              "  --sklearn-color-text-muted: #666;\n",
              "  --sklearn-color-line: gray;\n",
              "  /* Definition of color scheme for unfitted estimators */\n",
              "  --sklearn-color-unfitted-level-0: #fff5e6;\n",
              "  --sklearn-color-unfitted-level-1: #f6e4d2;\n",
              "  --sklearn-color-unfitted-level-2: #ffe0b3;\n",
              "  --sklearn-color-unfitted-level-3: chocolate;\n",
              "  /* Definition of color scheme for fitted estimators */\n",
              "  --sklearn-color-fitted-level-0: #f0f8ff;\n",
              "  --sklearn-color-fitted-level-1: #d4ebff;\n",
              "  --sklearn-color-fitted-level-2: #b3dbfd;\n",
              "  --sklearn-color-fitted-level-3: cornflowerblue;\n",
              "\n",
              "  /* Specific color for light theme */\n",
              "  --sklearn-color-text-on-default-background: var(--sg-text-color, var(--theme-code-foreground, var(--jp-content-font-color1, black)));\n",
              "  --sklearn-color-background: var(--sg-background-color, var(--theme-background, var(--jp-layout-color0, white)));\n",
              "  --sklearn-color-border-box: var(--sg-text-color, var(--theme-code-foreground, var(--jp-content-font-color1, black)));\n",
              "  --sklearn-color-icon: #696969;\n",
              "\n",
              "  @media (prefers-color-scheme: dark) {\n",
              "    /* Redefinition of color scheme for dark theme */\n",
              "    --sklearn-color-text-on-default-background: var(--sg-text-color, var(--theme-code-foreground, var(--jp-content-font-color1, white)));\n",
              "    --sklearn-color-background: var(--sg-background-color, var(--theme-background, var(--jp-layout-color0, #111)));\n",
              "    --sklearn-color-border-box: var(--sg-text-color, var(--theme-code-foreground, var(--jp-content-font-color1, white)));\n",
              "    --sklearn-color-icon: #878787;\n",
              "  }\n",
              "}\n",
              "\n",
              "#sk-container-id-1 {\n",
              "  color: var(--sklearn-color-text);\n",
              "}\n",
              "\n",
              "#sk-container-id-1 pre {\n",
              "  padding: 0;\n",
              "}\n",
              "\n",
              "#sk-container-id-1 input.sk-hidden--visually {\n",
              "  border: 0;\n",
              "  clip: rect(1px 1px 1px 1px);\n",
              "  clip: rect(1px, 1px, 1px, 1px);\n",
              "  height: 1px;\n",
              "  margin: -1px;\n",
              "  overflow: hidden;\n",
              "  padding: 0;\n",
              "  position: absolute;\n",
              "  width: 1px;\n",
              "}\n",
              "\n",
              "#sk-container-id-1 div.sk-dashed-wrapped {\n",
              "  border: 1px dashed var(--sklearn-color-line);\n",
              "  margin: 0 0.4em 0.5em 0.4em;\n",
              "  box-sizing: border-box;\n",
              "  padding-bottom: 0.4em;\n",
              "  background-color: var(--sklearn-color-background);\n",
              "}\n",
              "\n",
              "#sk-container-id-1 div.sk-container {\n",
              "  /* jupyter's `normalize.less` sets `[hidden] { display: none; }`\n",
              "     but bootstrap.min.css set `[hidden] { display: none !important; }`\n",
              "     so we also need the `!important` here to be able to override the\n",
              "     default hidden behavior on the sphinx rendered scikit-learn.org.\n",
              "     See: https://github.com/scikit-learn/scikit-learn/issues/21755 */\n",
              "  display: inline-block !important;\n",
              "  position: relative;\n",
              "}\n",
              "\n",
              "#sk-container-id-1 div.sk-text-repr-fallback {\n",
              "  display: none;\n",
              "}\n",
              "\n",
              "div.sk-parallel-item,\n",
              "div.sk-serial,\n",
              "div.sk-item {\n",
              "  /* draw centered vertical line to link estimators */\n",
              "  background-image: linear-gradient(var(--sklearn-color-text-on-default-background), var(--sklearn-color-text-on-default-background));\n",
              "  background-size: 2px 100%;\n",
              "  background-repeat: no-repeat;\n",
              "  background-position: center center;\n",
              "}\n",
              "\n",
              "/* Parallel-specific style estimator block */\n",
              "\n",
              "#sk-container-id-1 div.sk-parallel-item::after {\n",
              "  content: \"\";\n",
              "  width: 100%;\n",
              "  border-bottom: 2px solid var(--sklearn-color-text-on-default-background);\n",
              "  flex-grow: 1;\n",
              "}\n",
              "\n",
              "#sk-container-id-1 div.sk-parallel {\n",
              "  display: flex;\n",
              "  align-items: stretch;\n",
              "  justify-content: center;\n",
              "  background-color: var(--sklearn-color-background);\n",
              "  position: relative;\n",
              "}\n",
              "\n",
              "#sk-container-id-1 div.sk-parallel-item {\n",
              "  display: flex;\n",
              "  flex-direction: column;\n",
              "}\n",
              "\n",
              "#sk-container-id-1 div.sk-parallel-item:first-child::after {\n",
              "  align-self: flex-end;\n",
              "  width: 50%;\n",
              "}\n",
              "\n",
              "#sk-container-id-1 div.sk-parallel-item:last-child::after {\n",
              "  align-self: flex-start;\n",
              "  width: 50%;\n",
              "}\n",
              "\n",
              "#sk-container-id-1 div.sk-parallel-item:only-child::after {\n",
              "  width: 0;\n",
              "}\n",
              "\n",
              "/* Serial-specific style estimator block */\n",
              "\n",
              "#sk-container-id-1 div.sk-serial {\n",
              "  display: flex;\n",
              "  flex-direction: column;\n",
              "  align-items: center;\n",
              "  background-color: var(--sklearn-color-background);\n",
              "  padding-right: 1em;\n",
              "  padding-left: 1em;\n",
              "}\n",
              "\n",
              "\n",
              "/* Toggleable style: style used for estimator/Pipeline/ColumnTransformer box that is\n",
              "clickable and can be expanded/collapsed.\n",
              "- Pipeline and ColumnTransformer use this feature and define the default style\n",
              "- Estimators will overwrite some part of the style using the `sk-estimator` class\n",
              "*/\n",
              "\n",
              "/* Pipeline and ColumnTransformer style (default) */\n",
              "\n",
              "#sk-container-id-1 div.sk-toggleable {\n",
              "  /* Default theme specific background. It is overwritten whether we have a\n",
              "  specific estimator or a Pipeline/ColumnTransformer */\n",
              "  background-color: var(--sklearn-color-background);\n",
              "}\n",
              "\n",
              "/* Toggleable label */\n",
              "#sk-container-id-1 label.sk-toggleable__label {\n",
              "  cursor: pointer;\n",
              "  display: flex;\n",
              "  width: 100%;\n",
              "  margin-bottom: 0;\n",
              "  padding: 0.5em;\n",
              "  box-sizing: border-box;\n",
              "  text-align: center;\n",
              "  align-items: start;\n",
              "  justify-content: space-between;\n",
              "  gap: 0.5em;\n",
              "}\n",
              "\n",
              "#sk-container-id-1 label.sk-toggleable__label .caption {\n",
              "  font-size: 0.6rem;\n",
              "  font-weight: lighter;\n",
              "  color: var(--sklearn-color-text-muted);\n",
              "}\n",
              "\n",
              "#sk-container-id-1 label.sk-toggleable__label-arrow:before {\n",
              "  /* Arrow on the left of the label */\n",
              "  content: \"▸\";\n",
              "  float: left;\n",
              "  margin-right: 0.25em;\n",
              "  color: var(--sklearn-color-icon);\n",
              "}\n",
              "\n",
              "#sk-container-id-1 label.sk-toggleable__label-arrow:hover:before {\n",
              "  color: var(--sklearn-color-text);\n",
              "}\n",
              "\n",
              "/* Toggleable content - dropdown */\n",
              "\n",
              "#sk-container-id-1 div.sk-toggleable__content {\n",
              "  max-height: 0;\n",
              "  max-width: 0;\n",
              "  overflow: hidden;\n",
              "  text-align: left;\n",
              "  /* unfitted */\n",
              "  background-color: var(--sklearn-color-unfitted-level-0);\n",
              "}\n",
              "\n",
              "#sk-container-id-1 div.sk-toggleable__content.fitted {\n",
              "  /* fitted */\n",
              "  background-color: var(--sklearn-color-fitted-level-0);\n",
              "}\n",
              "\n",
              "#sk-container-id-1 div.sk-toggleable__content pre {\n",
              "  margin: 0.2em;\n",
              "  border-radius: 0.25em;\n",
              "  color: var(--sklearn-color-text);\n",
              "  /* unfitted */\n",
              "  background-color: var(--sklearn-color-unfitted-level-0);\n",
              "}\n",
              "\n",
              "#sk-container-id-1 div.sk-toggleable__content.fitted pre {\n",
              "  /* unfitted */\n",
              "  background-color: var(--sklearn-color-fitted-level-0);\n",
              "}\n",
              "\n",
              "#sk-container-id-1 input.sk-toggleable__control:checked~div.sk-toggleable__content {\n",
              "  /* Expand drop-down */\n",
              "  max-height: 200px;\n",
              "  max-width: 100%;\n",
              "  overflow: auto;\n",
              "}\n",
              "\n",
              "#sk-container-id-1 input.sk-toggleable__control:checked~label.sk-toggleable__label-arrow:before {\n",
              "  content: \"▾\";\n",
              "}\n",
              "\n",
              "/* Pipeline/ColumnTransformer-specific style */\n",
              "\n",
              "#sk-container-id-1 div.sk-label input.sk-toggleable__control:checked~label.sk-toggleable__label {\n",
              "  color: var(--sklearn-color-text);\n",
              "  background-color: var(--sklearn-color-unfitted-level-2);\n",
              "}\n",
              "\n",
              "#sk-container-id-1 div.sk-label.fitted input.sk-toggleable__control:checked~label.sk-toggleable__label {\n",
              "  background-color: var(--sklearn-color-fitted-level-2);\n",
              "}\n",
              "\n",
              "/* Estimator-specific style */\n",
              "\n",
              "/* Colorize estimator box */\n",
              "#sk-container-id-1 div.sk-estimator input.sk-toggleable__control:checked~label.sk-toggleable__label {\n",
              "  /* unfitted */\n",
              "  background-color: var(--sklearn-color-unfitted-level-2);\n",
              "}\n",
              "\n",
              "#sk-container-id-1 div.sk-estimator.fitted input.sk-toggleable__control:checked~label.sk-toggleable__label {\n",
              "  /* fitted */\n",
              "  background-color: var(--sklearn-color-fitted-level-2);\n",
              "}\n",
              "\n",
              "#sk-container-id-1 div.sk-label label.sk-toggleable__label,\n",
              "#sk-container-id-1 div.sk-label label {\n",
              "  /* The background is the default theme color */\n",
              "  color: var(--sklearn-color-text-on-default-background);\n",
              "}\n",
              "\n",
              "/* On hover, darken the color of the background */\n",
              "#sk-container-id-1 div.sk-label:hover label.sk-toggleable__label {\n",
              "  color: var(--sklearn-color-text);\n",
              "  background-color: var(--sklearn-color-unfitted-level-2);\n",
              "}\n",
              "\n",
              "/* Label box, darken color on hover, fitted */\n",
              "#sk-container-id-1 div.sk-label.fitted:hover label.sk-toggleable__label.fitted {\n",
              "  color: var(--sklearn-color-text);\n",
              "  background-color: var(--sklearn-color-fitted-level-2);\n",
              "}\n",
              "\n",
              "/* Estimator label */\n",
              "\n",
              "#sk-container-id-1 div.sk-label label {\n",
              "  font-family: monospace;\n",
              "  font-weight: bold;\n",
              "  display: inline-block;\n",
              "  line-height: 1.2em;\n",
              "}\n",
              "\n",
              "#sk-container-id-1 div.sk-label-container {\n",
              "  text-align: center;\n",
              "}\n",
              "\n",
              "/* Estimator-specific */\n",
              "#sk-container-id-1 div.sk-estimator {\n",
              "  font-family: monospace;\n",
              "  border: 1px dotted var(--sklearn-color-border-box);\n",
              "  border-radius: 0.25em;\n",
              "  box-sizing: border-box;\n",
              "  margin-bottom: 0.5em;\n",
              "  /* unfitted */\n",
              "  background-color: var(--sklearn-color-unfitted-level-0);\n",
              "}\n",
              "\n",
              "#sk-container-id-1 div.sk-estimator.fitted {\n",
              "  /* fitted */\n",
              "  background-color: var(--sklearn-color-fitted-level-0);\n",
              "}\n",
              "\n",
              "/* on hover */\n",
              "#sk-container-id-1 div.sk-estimator:hover {\n",
              "  /* unfitted */\n",
              "  background-color: var(--sklearn-color-unfitted-level-2);\n",
              "}\n",
              "\n",
              "#sk-container-id-1 div.sk-estimator.fitted:hover {\n",
              "  /* fitted */\n",
              "  background-color: var(--sklearn-color-fitted-level-2);\n",
              "}\n",
              "\n",
              "/* Specification for estimator info (e.g. \"i\" and \"?\") */\n",
              "\n",
              "/* Common style for \"i\" and \"?\" */\n",
              "\n",
              ".sk-estimator-doc-link,\n",
              "a:link.sk-estimator-doc-link,\n",
              "a:visited.sk-estimator-doc-link {\n",
              "  float: right;\n",
              "  font-size: smaller;\n",
              "  line-height: 1em;\n",
              "  font-family: monospace;\n",
              "  background-color: var(--sklearn-color-background);\n",
              "  border-radius: 1em;\n",
              "  height: 1em;\n",
              "  width: 1em;\n",
              "  text-decoration: none !important;\n",
              "  margin-left: 0.5em;\n",
              "  text-align: center;\n",
              "  /* unfitted */\n",
              "  border: var(--sklearn-color-unfitted-level-1) 1pt solid;\n",
              "  color: var(--sklearn-color-unfitted-level-1);\n",
              "}\n",
              "\n",
              ".sk-estimator-doc-link.fitted,\n",
              "a:link.sk-estimator-doc-link.fitted,\n",
              "a:visited.sk-estimator-doc-link.fitted {\n",
              "  /* fitted */\n",
              "  border: var(--sklearn-color-fitted-level-1) 1pt solid;\n",
              "  color: var(--sklearn-color-fitted-level-1);\n",
              "}\n",
              "\n",
              "/* On hover */\n",
              "div.sk-estimator:hover .sk-estimator-doc-link:hover,\n",
              ".sk-estimator-doc-link:hover,\n",
              "div.sk-label-container:hover .sk-estimator-doc-link:hover,\n",
              ".sk-estimator-doc-link:hover {\n",
              "  /* unfitted */\n",
              "  background-color: var(--sklearn-color-unfitted-level-3);\n",
              "  color: var(--sklearn-color-background);\n",
              "  text-decoration: none;\n",
              "}\n",
              "\n",
              "div.sk-estimator.fitted:hover .sk-estimator-doc-link.fitted:hover,\n",
              ".sk-estimator-doc-link.fitted:hover,\n",
              "div.sk-label-container:hover .sk-estimator-doc-link.fitted:hover,\n",
              ".sk-estimator-doc-link.fitted:hover {\n",
              "  /* fitted */\n",
              "  background-color: var(--sklearn-color-fitted-level-3);\n",
              "  color: var(--sklearn-color-background);\n",
              "  text-decoration: none;\n",
              "}\n",
              "\n",
              "/* Span, style for the box shown on hovering the info icon */\n",
              ".sk-estimator-doc-link span {\n",
              "  display: none;\n",
              "  z-index: 9999;\n",
              "  position: relative;\n",
              "  font-weight: normal;\n",
              "  right: .2ex;\n",
              "  padding: .5ex;\n",
              "  margin: .5ex;\n",
              "  width: min-content;\n",
              "  min-width: 20ex;\n",
              "  max-width: 50ex;\n",
              "  color: var(--sklearn-color-text);\n",
              "  box-shadow: 2pt 2pt 4pt #999;\n",
              "  /* unfitted */\n",
              "  background: var(--sklearn-color-unfitted-level-0);\n",
              "  border: .5pt solid var(--sklearn-color-unfitted-level-3);\n",
              "}\n",
              "\n",
              ".sk-estimator-doc-link.fitted span {\n",
              "  /* fitted */\n",
              "  background: var(--sklearn-color-fitted-level-0);\n",
              "  border: var(--sklearn-color-fitted-level-3);\n",
              "}\n",
              "\n",
              ".sk-estimator-doc-link:hover span {\n",
              "  display: block;\n",
              "}\n",
              "\n",
              "/* \"?\"-specific style due to the `<a>` HTML tag */\n",
              "\n",
              "#sk-container-id-1 a.estimator_doc_link {\n",
              "  float: right;\n",
              "  font-size: 1rem;\n",
              "  line-height: 1em;\n",
              "  font-family: monospace;\n",
              "  background-color: var(--sklearn-color-background);\n",
              "  border-radius: 1rem;\n",
              "  height: 1rem;\n",
              "  width: 1rem;\n",
              "  text-decoration: none;\n",
              "  /* unfitted */\n",
              "  color: var(--sklearn-color-unfitted-level-1);\n",
              "  border: var(--sklearn-color-unfitted-level-1) 1pt solid;\n",
              "}\n",
              "\n",
              "#sk-container-id-1 a.estimator_doc_link.fitted {\n",
              "  /* fitted */\n",
              "  border: var(--sklearn-color-fitted-level-1) 1pt solid;\n",
              "  color: var(--sklearn-color-fitted-level-1);\n",
              "}\n",
              "\n",
              "/* On hover */\n",
              "#sk-container-id-1 a.estimator_doc_link:hover {\n",
              "  /* unfitted */\n",
              "  background-color: var(--sklearn-color-unfitted-level-3);\n",
              "  color: var(--sklearn-color-background);\n",
              "  text-decoration: none;\n",
              "}\n",
              "\n",
              "#sk-container-id-1 a.estimator_doc_link.fitted:hover {\n",
              "  /* fitted */\n",
              "  background-color: var(--sklearn-color-fitted-level-3);\n",
              "}\n",
              "</style><div id=\"sk-container-id-1\" class=\"sk-top-container\"><div class=\"sk-text-repr-fallback\"><pre>SVC(C=10, gamma=0.05)</pre><b>In a Jupyter environment, please rerun this cell to show the HTML representation or trust the notebook. <br />On GitHub, the HTML representation is unable to render, please try loading this page with nbviewer.org.</b></div><div class=\"sk-container\" hidden><div class=\"sk-item\"><div class=\"sk-estimator fitted sk-toggleable\"><input class=\"sk-toggleable__control sk-hidden--visually\" id=\"sk-estimator-id-1\" type=\"checkbox\" checked><label for=\"sk-estimator-id-1\" class=\"sk-toggleable__label fitted sk-toggleable__label-arrow\"><div><div>SVC</div></div><div><a class=\"sk-estimator-doc-link fitted\" rel=\"noreferrer\" target=\"_blank\" href=\"https://scikit-learn.org/1.6/modules/generated/sklearn.svm.SVC.html\">?<span>Documentation for SVC</span></a><span class=\"sk-estimator-doc-link fitted\">i<span>Fitted</span></span></div></label><div class=\"sk-toggleable__content fitted\"><pre>SVC(C=10, gamma=0.05)</pre></div> </div></div></div></div>"
            ],
            "text/plain": [
              "SVC(C=10, gamma=0.05)"
            ]
          },
          "execution_count": 44,
          "metadata": {},
          "output_type": "execute_result"
        }
      ],
      "source": [
        "start_time = time.time()\n",
        "svm_model = svm.SVC(kernel='rbf', gamma=gamma, C=10)\n",
        "svm_model.fit(Xtr1, ytr8)"
      ]
    },
    {
      "cell_type": "markdown",
      "metadata": {
        "id": "8hcOkVNj_pPw"
      },
      "source": [
        "Calculate and print the accuracy of the SVM classifier. You should obtain a similar result as for logistic regression: something close to $97\\%$ accuracy."
      ]
    },
    {
      "cell_type": "code",
      "execution_count": 46,
      "metadata": {
        "id": "o5nSyO3J_pPw"
      },
      "outputs": [
        {
          "name": "stdout",
          "output_type": "stream",
          "text": [
            "Test accuracy = 0.980200\n"
          ]
        }
      ],
      "source": [
        "ysvm = svm_model.predict(Xts1)\n",
        "svm_acc = np.mean(ysvm == yts8)\n",
        "print(\"Test accuracy = %f\" % svm_acc)"
      ]
    },
    {
      "cell_type": "markdown",
      "metadata": {
        "id": "WWp9NlMa_pPw"
      },
      "source": [
        "## The Showdown\n",
        "\n",
        "Both SVM classifiers and kernel logisitic regression require tuning parameters to obtain the best possible result. In our setting we will stick with an RBF kernel (although this could be tuned). So we only consider tuning the kernel width parameter `gamma`, as well as the regularization parameter `lamb` for logistic regression, and the margin parameter `C` for SVM. We will choose parameters using for-loops and train-test cross validation."
      ]
    },
    {
      "cell_type": "markdown",
      "metadata": {
        "id": "ia44LYbc_pPw"
      },
      "source": [
        "Train a logistic regression classifier with **all combinations** of the parameters included below in vectors `gamma` and `lamb`. For each setting of parameters, compute and print:\n",
        "* the test error obtained\n",
        "* the total runtime of classification in seconds (including training time and prediction time)\n",
        "\n",
        "For computing runtime you might want to use the `time()` function from the `time` library, which we already imported ealier."
      ]
    },
    {
      "cell_type": "code",
      "execution_count": 48,
      "metadata": {
        "id": "0cHNr0Kw_pPw"
      },
      "outputs": [
        {
          "name": "stderr",
          "output_type": "stream",
          "text": [
            "/var/folders/4_/h0p5fc5x7jnbcxr3dl4b8mf00000gn/T/ipykernel_90075/48436916.py:5: RuntimeWarning: overflow encountered in exp\n",
            "  probs = 1 / (1 + np.exp(-scores))\n"
          ]
        }
      ],
      "source": [
        "gamma = [.1, .05,.02,.01,.005]\n",
        "lamb = [0,1e-6,1e-4,1e-2]\n",
        "\n",
        "best_lr_acc = 0\n",
        "best_lr_params = None\n",
        "best_lr_time = float('inf')\n",
        "\n",
        "for i in gamma:\n",
        "    for j in lamb:\n",
        "        start_time = time.time()\n",
        "        \n",
        "        # Create kernel matrix\n",
        "        K = pairwise_kernels(Xtr1, Xtr1, metric='rbf', gamma=i)\n",
        "        \n",
        "        # Train model\n",
        "        alpha = log_fit(K, ytr8, lamb=j)\n",
        "        \n",
        "        # Make predictions\n",
        "        Ktest = pairwise_kernels(Xts1, Xtr1, metric='rbf', gamma=i)\n",
        "        y_score = Ktest @ alpha\n",
        "        yhat = (y_score > 0).astype(int)\n",
        "        \n",
        "        elapsed = time.time() - start_time\n",
        "        \n",
        "        acc = np.mean(yhat == yts8)\n",
        "        if acc > best_lr_acc:\n",
        "            best_lr_acc = acc\n",
        "            best_lr_params = (i, j)\n",
        "            best_lr_time = elapsed\n"
      ]
    },
    {
      "cell_type": "markdown",
      "metadata": {
        "id": "LHxF0MXm_pPw"
      },
      "source": [
        "Now let's do the same thing for the kernel Support Vector Classifier. Train an SVM classifier with **all combinations** of the parameters included below in vectors `gamma` and `C`. For each setting of parameters, compute:\n",
        "* the test error obtained\n",
        "* the total runtime of classification in seconds (including training time and prediction time)"
      ]
    },
    {
      "cell_type": "code",
      "execution_count": 49,
      "metadata": {
        "id": "FkPkZGIY_pPx"
      },
      "outputs": [],
      "source": [
        "gamma = [.1, .05,.02,.01,.005]\n",
        "C = [.01,.1,1,10]\n",
        "\n",
        "best_svm_acc = 0\n",
        "best_svm_params = None\n",
        "best_svm_time = float('inf')\n",
        "\n",
        "for g in gamma:\n",
        "    for c in C:\n",
        "        start_time = time.time()\n",
        "        \n",
        "        # Train model\n",
        "        svm_model = svm.SVC(kernel='rbf', gamma=g, C=c)\n",
        "        svm_model.fit(Xtr1, ytr8)\n",
        "        \n",
        "        # Make predictions\n",
        "        ysvm = svm_model.predict(Xts1)\n",
        "        \n",
        "        elapsed = time.time() - start_time\n",
        "        \n",
        "        acc = np.mean(ysvm == yts8)\n",
        "        if acc > best_svm_acc:\n",
        "            best_svm_acc = acc\n",
        "            best_svm_params = (g, c)\n",
        "            best_svm_time = elapsed\n"
      ]
    },
    {
      "cell_type": "markdown",
      "metadata": {
        "id": "NkcP20AM_pPw"
      },
      "source": [
        "TODO: What was the best test error achieved, and what setting of parameters achieved this error? Was the kernel logistic regression classifier more sensitive to changes in `gamma` or `lamb`? Discuss in 1-3 short sentences below."
      ]
    },
    {
      "cell_type": "markdown",
      "metadata": {
        "id": "UPI-k50w_pPx"
      },
      "source": [
        "TODO: What was the best test error achieved, and what setting of parameters achieved this error? Which performed better in terms of accuracy, the SVM or logisitic regression classifier? How about in terms of runtime?"
      ]
    },
    {
      "cell_type": "code",
      "execution_count": 50,
      "metadata": {},
      "outputs": [
        {
          "name": "stdout",
          "output_type": "stream",
          "text": [
            "\n",
            "Best logistic regression result:\n",
            "gamma=0.02, lambda=1e-06, accuracy=0.9854, time=63.10s\n",
            "\n",
            "Best SVM result:\n",
            "gamma=0.01, C=10, accuracy=0.9870, time=3.07s\n"
          ]
        }
      ],
      "source": [
        "print(\"\\nBest logistic regression result:\")\n",
        "print(f\"gamma={best_lr_params[0]}, lambda={best_lr_params[1]}, accuracy={best_lr_acc:.4f}, time={best_lr_time:.2f}s\")\n",
        "\n",
        "print(\"\\nBest SVM result:\")\n",
        "print(f\"gamma={best_svm_params[0]}, C={best_svm_params[1]}, accuracy={best_svm_acc:.4f}, time={best_svm_time:.2f}s\")"
      ]
    },
    {
      "cell_type": "markdown",
      "metadata": {},
      "source": [
        "Best accruacy for the lr was 95.54%.\n",
        "\n",
        "klr was more sensitive to the gamma parameter since it controls width and complexity.\n",
        "\n",
        "It ended up taking what felt like eons to complete due to these high gamma values. \n",
        "\n",
        "Funnily enough, the SVM classifier had a higher accuracy and took much less time. \n",
        "\n",
        "This is likely due to the optimization of the scilearn library.\n",
        "\n",
        "We did make the nit 1000 for lr which could have lead to redundant calcs, but I think this might be unlikely since we used a library..."
      ]
    },
    {
      "cell_type": "markdown",
      "metadata": {
        "id": "wec-DXhg_pPx"
      },
      "source": [
        "**NOTE:** For `sklearns`'s built in classifiers, including svm.SVC, there is a function called `GridSearchCV` which can automatically perform hyperparamater tuning for you. The main advantage of the method (as opposed to writing for-loops) is that it supports parallelization, so it can fit with different parameters at the same time. The function also supports automatic $k$-fold cross-validation (instead of simple train/test split).\n",
        "\n",
        "You might be interested in using this function in the future. If so, please check out the tutorial in the following lab from previous year: https://github.com/sdrangan/introml/blob/master/unit08_svm/lab_emnist_partial.ipynb."
      ]
    }
  ],
  "metadata": {
    "anaconda-cloud": {},
    "colab": {
      "provenance": []
    },
    "kernelspec": {
      "display_name": ".venv",
      "language": "python",
      "name": "python3"
    },
    "language_info": {
      "codemirror_mode": {
        "name": "ipython",
        "version": 3
      },
      "file_extension": ".py",
      "mimetype": "text/x-python",
      "name": "python",
      "nbconvert_exporter": "python",
      "pygments_lexer": "ipython3",
      "version": "3.12.9"
    }
  },
  "nbformat": 4,
  "nbformat_minor": 0
}
