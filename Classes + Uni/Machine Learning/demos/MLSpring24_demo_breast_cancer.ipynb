{
  "cells": [
    {
      "cell_type": "markdown",
      "metadata": {
        "id": "mBpTmzbnvTgR"
      },
      "source": [
        "#  Breast Cancer Diagnosis via Logistic Regression\n",
        "\n",
        "---\n",
        "\n"
      ]
    },
    {
      "cell_type": "markdown",
      "metadata": {
        "id": "OM2hgcwHvTgS"
      },
      "source": [
        "In this demo, we will see how to visualize training data for classification and perform logistic regression.  As an example, we will use a widely-used breast cancer data set.  This data set is described here:\n",
        "\n",
        "https://archive.ics.uci.edu/ml/datasets/breast+cancer+wisconsin+(original)\n",
        "\n",
        "and the original paper studying it can be found at https://www.ncbi.nlm.nih.gov/pmc/articles/PMC55130/.\n",
        "\n",
        "Each sample is a collection of features that were manually recorded by a physician upon inspecting a sample of cells from a fine needle aspiration (FNA) biopsy of breast tissue.  The features are scores from 1-10 descring certain aspects of the appearance of cells in the biopsy under microscope. The goal is to detect if the cells are benign or malignant."
      ]
    },
    {
      "cell_type": "markdown",
      "metadata": {
        "id": "Z0MxldHkvTgT"
      },
      "source": [
        "## Loading and Visualizing the Data\n",
        "\n",
        "We first load the packages as usual."
      ]
    },
    {
      "cell_type": "code",
      "execution_count": null,
      "metadata": {
        "id": "3UE5OfLNvTgT"
      },
      "outputs": [],
      "source": [
        "import numpy as np\n",
        "import matplotlib\n",
        "import matplotlib.pyplot as plt\n",
        "import pandas as pd\n",
        "from sklearn import datasets, linear_model, preprocessing\n",
        "%matplotlib inline"
      ]
    },
    {
      "cell_type": "code",
      "source": [],
      "metadata": {
        "id": "CyM8ENNtNNeR"
      },
      "execution_count": null,
      "outputs": []
    },
    {
      "cell_type": "code",
      "source": [],
      "metadata": {
        "id": "q-JrgnPLNNwI"
      },
      "execution_count": null,
      "outputs": []
    },
    {
      "cell_type": "markdown",
      "metadata": {
        "id": "8xplMgfUvTgU"
      },
      "source": [
        "Next, we load the data.  It is important to remove the missing values with `dropna`."
      ]
    },
    {
      "cell_type": "code",
      "execution_count": null,
      "metadata": {
        "id": "JjAtucO7vTgZ",
        "colab": {
          "base_uri": "https://localhost:8080/",
          "height": 419
        },
        "outputId": "0990ceb2-93b1-4d26-a97f-3a2943ec21db"
      },
      "outputs": [
        {
          "output_type": "execute_result",
          "data": {
            "text/plain": [
              "          id  thick  size_unif  shape_unif  marg  cell_size  bare  chrom  \\\n",
              "0    1000025      5          1           1     1          2   1.0      3   \n",
              "1    1002945      5          4           4     5          7  10.0      3   \n",
              "2    1015425      3          1           1     1          2   2.0      3   \n",
              "3    1016277      6          8           8     1          3   4.0      3   \n",
              "4    1017023      4          1           1     3          2   1.0      3   \n",
              "..       ...    ...        ...         ...   ...        ...   ...    ...   \n",
              "694   776715      3          1           1     1          3   2.0      1   \n",
              "695   841769      2          1           1     1          2   1.0      1   \n",
              "696   888820      5         10          10     3          7   3.0      8   \n",
              "697   897471      4          8           6     4          3   4.0     10   \n",
              "698   897471      4          8           8     5          4   5.0     10   \n",
              "\n",
              "     normal  mit  class  \n",
              "0         1    1      2  \n",
              "1         2    1      2  \n",
              "2         1    1      2  \n",
              "3         7    1      2  \n",
              "4         1    1      2  \n",
              "..      ...  ...    ...  \n",
              "694       1    1      2  \n",
              "695       1    1      2  \n",
              "696      10    2      4  \n",
              "697       6    1      4  \n",
              "698       4    1      4  \n",
              "\n",
              "[683 rows x 11 columns]"
            ],
            "text/html": [
              "\n",
              "  <div id=\"df-dfc5d7ea-a5e5-429b-8d82-49d4ee208979\">\n",
              "    <div class=\"colab-df-container\">\n",
              "      <div>\n",
              "<style scoped>\n",
              "    .dataframe tbody tr th:only-of-type {\n",
              "        vertical-align: middle;\n",
              "    }\n",
              "\n",
              "    .dataframe tbody tr th {\n",
              "        vertical-align: top;\n",
              "    }\n",
              "\n",
              "    .dataframe thead th {\n",
              "        text-align: right;\n",
              "    }\n",
              "</style>\n",
              "<table border=\"1\" class=\"dataframe\">\n",
              "  <thead>\n",
              "    <tr style=\"text-align: right;\">\n",
              "      <th></th>\n",
              "      <th>id</th>\n",
              "      <th>thick</th>\n",
              "      <th>size_unif</th>\n",
              "      <th>shape_unif</th>\n",
              "      <th>marg</th>\n",
              "      <th>cell_size</th>\n",
              "      <th>bare</th>\n",
              "      <th>chrom</th>\n",
              "      <th>normal</th>\n",
              "      <th>mit</th>\n",
              "      <th>class</th>\n",
              "    </tr>\n",
              "  </thead>\n",
              "  <tbody>\n",
              "    <tr>\n",
              "      <th>0</th>\n",
              "      <td>1000025</td>\n",
              "      <td>5</td>\n",
              "      <td>1</td>\n",
              "      <td>1</td>\n",
              "      <td>1</td>\n",
              "      <td>2</td>\n",
              "      <td>1.0</td>\n",
              "      <td>3</td>\n",
              "      <td>1</td>\n",
              "      <td>1</td>\n",
              "      <td>2</td>\n",
              "    </tr>\n",
              "    <tr>\n",
              "      <th>1</th>\n",
              "      <td>1002945</td>\n",
              "      <td>5</td>\n",
              "      <td>4</td>\n",
              "      <td>4</td>\n",
              "      <td>5</td>\n",
              "      <td>7</td>\n",
              "      <td>10.0</td>\n",
              "      <td>3</td>\n",
              "      <td>2</td>\n",
              "      <td>1</td>\n",
              "      <td>2</td>\n",
              "    </tr>\n",
              "    <tr>\n",
              "      <th>2</th>\n",
              "      <td>1015425</td>\n",
              "      <td>3</td>\n",
              "      <td>1</td>\n",
              "      <td>1</td>\n",
              "      <td>1</td>\n",
              "      <td>2</td>\n",
              "      <td>2.0</td>\n",
              "      <td>3</td>\n",
              "      <td>1</td>\n",
              "      <td>1</td>\n",
              "      <td>2</td>\n",
              "    </tr>\n",
              "    <tr>\n",
              "      <th>3</th>\n",
              "      <td>1016277</td>\n",
              "      <td>6</td>\n",
              "      <td>8</td>\n",
              "      <td>8</td>\n",
              "      <td>1</td>\n",
              "      <td>3</td>\n",
              "      <td>4.0</td>\n",
              "      <td>3</td>\n",
              "      <td>7</td>\n",
              "      <td>1</td>\n",
              "      <td>2</td>\n",
              "    </tr>\n",
              "    <tr>\n",
              "      <th>4</th>\n",
              "      <td>1017023</td>\n",
              "      <td>4</td>\n",
              "      <td>1</td>\n",
              "      <td>1</td>\n",
              "      <td>3</td>\n",
              "      <td>2</td>\n",
              "      <td>1.0</td>\n",
              "      <td>3</td>\n",
              "      <td>1</td>\n",
              "      <td>1</td>\n",
              "      <td>2</td>\n",
              "    </tr>\n",
              "    <tr>\n",
              "      <th>...</th>\n",
              "      <td>...</td>\n",
              "      <td>...</td>\n",
              "      <td>...</td>\n",
              "      <td>...</td>\n",
              "      <td>...</td>\n",
              "      <td>...</td>\n",
              "      <td>...</td>\n",
              "      <td>...</td>\n",
              "      <td>...</td>\n",
              "      <td>...</td>\n",
              "      <td>...</td>\n",
              "    </tr>\n",
              "    <tr>\n",
              "      <th>694</th>\n",
              "      <td>776715</td>\n",
              "      <td>3</td>\n",
              "      <td>1</td>\n",
              "      <td>1</td>\n",
              "      <td>1</td>\n",
              "      <td>3</td>\n",
              "      <td>2.0</td>\n",
              "      <td>1</td>\n",
              "      <td>1</td>\n",
              "      <td>1</td>\n",
              "      <td>2</td>\n",
              "    </tr>\n",
              "    <tr>\n",
              "      <th>695</th>\n",
              "      <td>841769</td>\n",
              "      <td>2</td>\n",
              "      <td>1</td>\n",
              "      <td>1</td>\n",
              "      <td>1</td>\n",
              "      <td>2</td>\n",
              "      <td>1.0</td>\n",
              "      <td>1</td>\n",
              "      <td>1</td>\n",
              "      <td>1</td>\n",
              "      <td>2</td>\n",
              "    </tr>\n",
              "    <tr>\n",
              "      <th>696</th>\n",
              "      <td>888820</td>\n",
              "      <td>5</td>\n",
              "      <td>10</td>\n",
              "      <td>10</td>\n",
              "      <td>3</td>\n",
              "      <td>7</td>\n",
              "      <td>3.0</td>\n",
              "      <td>8</td>\n",
              "      <td>10</td>\n",
              "      <td>2</td>\n",
              "      <td>4</td>\n",
              "    </tr>\n",
              "    <tr>\n",
              "      <th>697</th>\n",
              "      <td>897471</td>\n",
              "      <td>4</td>\n",
              "      <td>8</td>\n",
              "      <td>6</td>\n",
              "      <td>4</td>\n",
              "      <td>3</td>\n",
              "      <td>4.0</td>\n",
              "      <td>10</td>\n",
              "      <td>6</td>\n",
              "      <td>1</td>\n",
              "      <td>4</td>\n",
              "    </tr>\n",
              "    <tr>\n",
              "      <th>698</th>\n",
              "      <td>897471</td>\n",
              "      <td>4</td>\n",
              "      <td>8</td>\n",
              "      <td>8</td>\n",
              "      <td>5</td>\n",
              "      <td>4</td>\n",
              "      <td>5.0</td>\n",
              "      <td>10</td>\n",
              "      <td>4</td>\n",
              "      <td>1</td>\n",
              "      <td>4</td>\n",
              "    </tr>\n",
              "  </tbody>\n",
              "</table>\n",
              "<p>683 rows × 11 columns</p>\n",
              "</div>\n",
              "      <button class=\"colab-df-convert\" onclick=\"convertToInteractive('df-dfc5d7ea-a5e5-429b-8d82-49d4ee208979')\"\n",
              "              title=\"Convert this dataframe to an interactive table.\"\n",
              "              style=\"display:none;\">\n",
              "        \n",
              "  <svg xmlns=\"http://www.w3.org/2000/svg\" height=\"24px\"viewBox=\"0 0 24 24\"\n",
              "       width=\"24px\">\n",
              "    <path d=\"M0 0h24v24H0V0z\" fill=\"none\"/>\n",
              "    <path d=\"M18.56 5.44l.94 2.06.94-2.06 2.06-.94-2.06-.94-.94-2.06-.94 2.06-2.06.94zm-11 1L8.5 8.5l.94-2.06 2.06-.94-2.06-.94L8.5 2.5l-.94 2.06-2.06.94zm10 10l.94 2.06.94-2.06 2.06-.94-2.06-.94-.94-2.06-.94 2.06-2.06.94z\"/><path d=\"M17.41 7.96l-1.37-1.37c-.4-.4-.92-.59-1.43-.59-.52 0-1.04.2-1.43.59L10.3 9.45l-7.72 7.72c-.78.78-.78 2.05 0 2.83L4 21.41c.39.39.9.59 1.41.59.51 0 1.02-.2 1.41-.59l7.78-7.78 2.81-2.81c.8-.78.8-2.07 0-2.86zM5.41 20L4 18.59l7.72-7.72 1.47 1.35L5.41 20z\"/>\n",
              "  </svg>\n",
              "      </button>\n",
              "      \n",
              "  <style>\n",
              "    .colab-df-container {\n",
              "      display:flex;\n",
              "      flex-wrap:wrap;\n",
              "      gap: 12px;\n",
              "    }\n",
              "\n",
              "    .colab-df-convert {\n",
              "      background-color: #E8F0FE;\n",
              "      border: none;\n",
              "      border-radius: 50%;\n",
              "      cursor: pointer;\n",
              "      display: none;\n",
              "      fill: #1967D2;\n",
              "      height: 32px;\n",
              "      padding: 0 0 0 0;\n",
              "      width: 32px;\n",
              "    }\n",
              "\n",
              "    .colab-df-convert:hover {\n",
              "      background-color: #E2EBFA;\n",
              "      box-shadow: 0px 1px 2px rgba(60, 64, 67, 0.3), 0px 1px 3px 1px rgba(60, 64, 67, 0.15);\n",
              "      fill: #174EA6;\n",
              "    }\n",
              "\n",
              "    [theme=dark] .colab-df-convert {\n",
              "      background-color: #3B4455;\n",
              "      fill: #D2E3FC;\n",
              "    }\n",
              "\n",
              "    [theme=dark] .colab-df-convert:hover {\n",
              "      background-color: #434B5C;\n",
              "      box-shadow: 0px 1px 3px 1px rgba(0, 0, 0, 0.15);\n",
              "      filter: drop-shadow(0px 1px 2px rgba(0, 0, 0, 0.3));\n",
              "      fill: #FFFFFF;\n",
              "    }\n",
              "  </style>\n",
              "\n",
              "      <script>\n",
              "        const buttonEl =\n",
              "          document.querySelector('#df-dfc5d7ea-a5e5-429b-8d82-49d4ee208979 button.colab-df-convert');\n",
              "        buttonEl.style.display =\n",
              "          google.colab.kernel.accessAllowed ? 'block' : 'none';\n",
              "\n",
              "        async function convertToInteractive(key) {\n",
              "          const element = document.querySelector('#df-dfc5d7ea-a5e5-429b-8d82-49d4ee208979');\n",
              "          const dataTable =\n",
              "            await google.colab.kernel.invokeFunction('convertToInteractive',\n",
              "                                                     [key], {});\n",
              "          if (!dataTable) return;\n",
              "\n",
              "          const docLinkHtml = 'Like what you see? Visit the ' +\n",
              "            '<a target=\"_blank\" href=https://colab.research.google.com/notebooks/data_table.ipynb>data table notebook</a>'\n",
              "            + ' to learn more about interactive tables.';\n",
              "          element.innerHTML = '';\n",
              "          dataTable['output_type'] = 'display_data';\n",
              "          await google.colab.output.renderOutput(dataTable, element);\n",
              "          const docLink = document.createElement('div');\n",
              "          docLink.innerHTML = docLinkHtml;\n",
              "          element.appendChild(docLink);\n",
              "        }\n",
              "      </script>\n",
              "    </div>\n",
              "  </div>\n",
              "  "
            ]
          },
          "metadata": {},
          "execution_count": 18
        }
      ],
      "source": [
        "names = ['id','thick','size_unif','shape_unif','marg','cell_size','bare',\n",
        "         'chrom','normal','mit','class']\n",
        "df = pd.read_csv('https://archive.ics.uci.edu/ml/machine-learning-databases/' +\n",
        "                 'breast-cancer-wisconsin/breast-cancer-wisconsin.data',\n",
        "                names=names,na_values='?',header=None)\n",
        "df = df.dropna()\n",
        "df"
      ]
    },
    {
      "cell_type": "markdown",
      "metadata": {
        "id": "NciVk_wfvTgZ"
      },
      "source": [
        "After loading the data, we can create a scatter plot of the data labeling the class values with different colors.  We will pick two of the features.  "
      ]
    },
    {
      "cell_type": "code",
      "execution_count": null,
      "metadata": {
        "scrolled": true,
        "id": "zNmqxbUOvTgZ",
        "colab": {
          "base_uri": "https://localhost:8080/",
          "height": 308
        },
        "outputId": "4e1f8fef-68f1-4809-f488-aec102e6a654"
      },
      "outputs": [
        {
          "output_type": "execute_result",
          "data": {
            "text/plain": [
              "<matplotlib.legend.Legend at 0x7f612b70f0d0>"
            ]
          },
          "metadata": {},
          "execution_count": 19
        },
        {
          "output_type": "display_data",
          "data": {
            "text/plain": [
              "<Figure size 432x288 with 1 Axes>"
            ],
            "image/png": "[encoded data removed]"
          },
          "metadata": {
            "needs_background": "light"
          }
        }
      ],
      "source": [
        "# Get the response.  Convert to a zero-one indicator\n",
        "yraw = np.array(df['class'])\n",
        "BEN_VAL = 2   # value in the 'class' label for benign samples\n",
        "MAL_VAL = 4   # value in the 'class' label for malignant samples\n",
        "y = (yraw == MAL_VAL).astype(int) # now y has values of 0,1\n",
        "Iben = (y==0)\n",
        "Imal = (y==1)\n",
        "\n",
        "# Get two predictors\n",
        "xnames =['size_unif','marg']\n",
        "X = df[xnames].values\n",
        "\n",
        "# Create the scatter plot\n",
        "plt.plot(X[Imal,0],X[Imal,1],'b.')\n",
        "plt.plot(X[Iben,0],X[Iben,1],'g.')\n",
        "plt.xlabel(xnames[0], fontsize=16)\n",
        "plt.ylabel(xnames[1], fontsize=16)\n",
        "plt.ylim(0,14)\n",
        "plt.legend(['malign','benign'],loc='upper right')"
      ]
    },
    {
      "cell_type": "markdown",
      "metadata": {
        "id": "P_wTqCXOvTga"
      },
      "source": [
        "The above plot is not informative, since many of the points are on top of one another.  Thus, we cannot see the relative frequency of points.  \n",
        "\n",
        "One way to improve the plot is add \"jitter\" to the data. Just for visualization, we will add random noise to all of our X values, which has the effect of seperating points on the plot. Play around with the `var` parameter below to see how it changes things.\n",
        "\n",
        "We will re-use this code, so we define a function."
      ]
    },
    {
      "cell_type": "code",
      "execution_count": null,
      "metadata": {
        "scrolled": true,
        "id": "kNWGpCaCvTgb",
        "colab": {
          "base_uri": "https://localhost:8080/",
          "height": 308
        },
        "outputId": "b9bdf2f5-63fd-4ffe-cb2c-e45cb3ecb4a6"
      },
      "outputs": [
        {
          "output_type": "execute_result",
          "data": {
            "text/plain": [
              "<module 'matplotlib.pyplot' from '/usr/local/lib/python3.7/dist-packages/matplotlib/pyplot.py'>"
            ]
          },
          "metadata": {},
          "execution_count": 20
        },
        {
          "output_type": "display_data",
          "data": {
            "text/plain": [
              "<Figure size 432x288 with 1 Axes>"
            ],
            "image/png": "[encoded data removed]"
          },
          "metadata": {
            "needs_background": "light"
          }
        }
      ],
      "source": [
        "def plot_cnt(X,y):\n",
        "\n",
        "    # add random \"jitter\" to seperate points\n",
        "    var = .15;\n",
        "    Xj = X + var*np.random.randn(X.shape[0],X.shape[1])\n",
        "\n",
        "    # Create the scatter plot\n",
        "    plt.plot(Xj[Imal,0],Xj[Imal,1],'b.')\n",
        "    plt.plot(Xj[Iben,0],Xj[Iben,1],'g.')\n",
        "    plt.xlabel(xnames[0], fontsize=16)\n",
        "    plt.ylabel(xnames[1], fontsize=16)\n",
        "    plt.ylim(0,14)\n",
        "    plt.legend(['malign','benign'],loc='upper right')\n",
        "    return plt\n",
        "\n",
        "plot_cnt(X,y)"
      ]
    },
    {
      "cell_type": "markdown",
      "metadata": {
        "id": "iaGXakwtvTgc"
      },
      "source": [
        "## Some Simple Classification ideas"
      ]
    },
    {
      "cell_type": "markdown",
      "metadata": {
        "id": "o1IC7JXevTgc"
      },
      "source": [
        "We can see that the benign samples are located in the lower left.  So, one simple classification rule is to define the region with a line.  We plot the region for one possible line with the following code."
      ]
    },
    {
      "cell_type": "code",
      "execution_count": null,
      "metadata": {
        "id": "noYj_J4OvTgd",
        "colab": {
          "base_uri": "https://localhost:8080/",
          "height": 308
        },
        "outputId": "6664804c-eaac-4084-d0fb-4927b01ac7e3"
      },
      "outputs": [
        {
          "output_type": "execute_result",
          "data": {
            "text/plain": [
              "<matplotlib.patches.Polygon at 0x7f612b6136d0>"
            ]
          },
          "metadata": {},
          "execution_count": 21
        },
        {
          "output_type": "display_data",
          "data": {
            "text/plain": [
              "<Figure size 432x288 with 1 Axes>"
            ],
            "image/png": "[encoded data removed]"
          },
          "metadata": {
            "needs_background": "light"
          }
        }
      ],
      "source": [
        "from matplotlib import patches\n",
        "plt = plot_cnt(X,y)\n",
        "\n",
        "ax = plt.gca()\n",
        "ax.add_patch(\n",
        "    patches.Polygon([[0,0],[0,14],[4.5,0]],\n",
        "        color='green',\n",
        "        fill=False, hatch = '//'\n",
        "    )\n",
        ")"
      ]
    },
    {
      "cell_type": "markdown",
      "metadata": {
        "id": "JZkkOCxMvTgd"
      },
      "source": [
        "Here is an alternate classification rule based on two linear constraints."
      ]
    },
    {
      "cell_type": "code",
      "execution_count": null,
      "metadata": {
        "id": "sRieIgiAvTgd",
        "colab": {
          "base_uri": "https://localhost:8080/",
          "height": 308
        },
        "outputId": "49817c3b-bf93-4b78-a536-762bc0028ca5"
      },
      "outputs": [
        {
          "output_type": "execute_result",
          "data": {
            "text/plain": [
              "<matplotlib.patches.Rectangle at 0x7f612b5a0750>"
            ]
          },
          "metadata": {},
          "execution_count": 22
        },
        {
          "output_type": "display_data",
          "data": {
            "text/plain": [
              "<Figure size 432x288 with 1 Axes>"
            ],
            "image/png": "[encoded data removed]"
          },
          "metadata": {
            "needs_background": "light"
          }
        }
      ],
      "source": [
        "plt = plot_cnt(X,y)\n",
        "ax = plt.gca()\n",
        "ax.add_patch(\n",
        "    patches.Rectangle(\n",
        "        (0, 0),   # (x,y)\n",
        "        width=4, height=6,  color='green',\n",
        "        fill=False, hatch = '//'\n",
        "    )\n",
        ")"
      ]
    },
    {
      "cell_type": "markdown",
      "metadata": {
        "id": "L64GA_x-vTgd"
      },
      "source": [
        "Let us first try to find the best linear classifier by using least squares regression. I.e. we will simple minimize $\\|\\mathbf{X}\\boldsymbol{\\beta} - \\mathbf{y}\\|_2^2$ where $y$ contains $0,1$ values."
      ]
    },
    {
      "cell_type": "code",
      "execution_count": null,
      "metadata": {
        "id": "qHxOW9vVvTge"
      },
      "outputs": [],
      "source": [
        "def fit_mult_linear(X,y):\n",
        "    Xa = np.concatenate((np.ones((X.shape[0],1)),X),axis=1)\n",
        "    Xat = np.transpose(Xa);\n",
        "    beta = np.linalg.inv(Xat@Xa)@Xat@y[:,None]\n",
        "    return beta"
      ]
    },
    {
      "cell_type": "code",
      "execution_count": null,
      "metadata": {
        "id": "O6vkFJtLvTge",
        "colab": {
          "base_uri": "https://localhost:8080/"
        },
        "outputId": "ed2e669c-2c83-44cf-f981-9de7b17430db"
      },
      "outputs": [
        {
          "output_type": "stream",
          "name": "stdout",
          "text": [
            "beta= [-0.08420067  0.10007944  0.04197521]\n"
          ]
        }
      ],
      "source": [
        "beta = fit_mult_linear(X,y)\n",
        "print('beta=',str(beta[:,0]))"
      ]
    },
    {
      "cell_type": "markdown",
      "metadata": {
        "id": "dlo5xR8dvTgf"
      },
      "source": [
        "When classifiying using the learned linear function, a reasonable rule is to predict class `1` (malignant) for any example $\\mathbf{x} \\in \\mathbb{R}^2$ where $\\langle[1,\\mathbf{x}],\\boldsymbol{\\beta}\\rangle \\geq 1/2$ and class  `0` (benign) for any example $i$ where $\\langle[1,\\mathbf{x}],\\boldsymbol{\\beta}\\rangle < 1/2$. I.e. predict $1$ when the predication is closer to $1$ and than $0$.\n",
        "\n",
        "We can visualize this classification rule by plotting all values of $x_1$ and $x_2$  where $\\langle[1,\\mathbf{x}],\\boldsymbol{\\beta}\\rangle = 1/2$. I.e. solve for when $\\beta_0 + \\beta_1x_1 + \\beta_2x_2 = 1/2$."
      ]
    },
    {
      "cell_type": "code",
      "execution_count": null,
      "metadata": {
        "id": "otKEfNtAvTgf",
        "colab": {
          "base_uri": "https://localhost:8080/",
          "height": 308
        },
        "outputId": "cf476cba-6d61-4a70-da77-10399c2e51ea"
      },
      "outputs": [
        {
          "output_type": "execute_result",
          "data": {
            "text/plain": [
              "[<matplotlib.lines.Line2D at 0x7f612b523c10>]"
            ]
          },
          "metadata": {},
          "execution_count": 25
        },
        {
          "output_type": "display_data",
          "data": {
            "text/plain": [
              "<Figure size 432x288 with 1 Axes>"
            ],
            "image/png": "[encoded data removed]"
          },
          "metadata": {
            "needs_background": "light"
          }
        }
      ],
      "source": [
        "plt = plot_cnt(X,y)\n",
        "x1=np.zeros([11,1])\n",
        "x2=np.zeros([11,1])\n",
        "for i in range(11):\n",
        "    x1[i]=i;\n",
        "    x2[i]=(.5-beta[0]-beta[1]*i)/beta[2]\n",
        "\n",
        "plt.plot(x1, x2)"
      ]
    },
    {
      "cell_type": "markdown",
      "metadata": {
        "id": "T2dDSQetvTgf"
      },
      "source": [
        "Let's check out accuracy on the training data by seeing what percentage of labels we got correctly. We do a pretty descent job since we pretty naively applied a least squares regression method here."
      ]
    },
    {
      "cell_type": "code",
      "execution_count": null,
      "metadata": {
        "id": "3R6BcMW_vTgf",
        "colab": {
          "base_uri": "https://localhost:8080/"
        },
        "outputId": "95b11252-53ba-4345-a9a5-7d0b9486beff"
      },
      "outputs": [
        {
          "output_type": "stream",
          "name": "stdout",
          "text": [
            "Accuracy on training data using two features = 0.922401\n"
          ]
        }
      ],
      "source": [
        "Xa = np.concatenate((np.ones((X.shape[0],1)),X),axis=1)\n",
        "yhat = (Xa@beta)[:,0]\n",
        "yhati= (yhat >=.5).astype(int)\n",
        "acc = np.mean(yhati == y)\n",
        "print(\"Accuracy on training data using two features = %f\" % acc)"
      ]
    },
    {
      "cell_type": "markdown",
      "metadata": {
        "id": "e9aC99tCvTgg"
      },
      "source": [
        "We also calculate the precision and recall. Here a \"positive\" example is a malignant biopsy, which is what we are hoping to detect. See https://en.wikipedia.org/wiki/Precision_and_recall for a refresher on precision and recall."
      ]
    },
    {
      "cell_type": "code",
      "execution_count": null,
      "metadata": {
        "id": "LoqEve2cvTgg",
        "colab": {
          "base_uri": "https://localhost:8080/"
        },
        "outputId": "2a93e8ad-8868-4bd2-96fb-efc87759df85"
      },
      "outputs": [
        {
          "output_type": "stream",
          "name": "stdout",
          "text": [
            "Recall: 0.799163179916318\n",
            "Precision: 0.9744897959183674\n"
          ]
        }
      ],
      "source": [
        "recall = np.sum((yhati == 1)*(y == 1))/np.sum(y == 1)\n",
        "precision = np.sum((yhati == 1)*(y == 1))/np.sum(yhati == 1)\n",
        "print(\"Recall: \" + str(recall))\n",
        "print(\"Precision: \" + str(precision))"
      ]
    },
    {
      "cell_type": "markdown",
      "metadata": {
        "id": "52D84ohhvTgg"
      },
      "source": [
        "## Logistic Functions\n"
      ]
    },
    {
      "cell_type": "markdown",
      "metadata": {
        "id": "MV9xb18kvTgg"
      },
      "source": [
        "Overall, a basic linear classifier trained with squared loss did not do a bad job! However, we might hope to do a bit better on recall and overall accuracy. As discussed in class, the classifier above seems to be shifted a bit too far \"right\" than what we might guess would be ideal.\n",
        "\n",
        "An alternative approach is to train a linear classifier with logistic loss. In particular, for a data vector $\\mathbf{x}$, we let $h_{\\mathbf{\\beta}}(\\mathbf{x}) = \\frac{1}{1 + e^{-\\mathbf{x}^T\\mathbf{\\beta}}}$ and we minimize the cross-entropy loss (aka the logistic loss):\n",
        "$$\n",
        "L(\\mathbf{\\beta}) = - \\sum_{i=1}^n y_i \\log(h_{\\mathbf{\\beta}}(\\mathbf{x}_i)) + (1-y_i) \\log(1-h_{\\mathbf{\\beta}}(\\mathbf{x}_i))\n",
        "$$\n",
        "\n",
        "Since we don't have a closed form expression for the optimal $\\mathbf{\\beta}^*$ to minimized this loss, we need to find $\\mathbf{\\beta}^*$ using an iterative method like gradient descent. We will discuss the details of how to do this in a future lecture. For now we just use the built in logistic regression functionality within `sklearn`.\n",
        "\n",
        "Note that by setting `penalty='none'` we are opting to use no regularization. We have to set the `solver` parameter manually to avoid an error with the default solver. LBFGS is just a specific iterative method for finding the optimal parameters for the model (for more info see https://en.wikipedia.org/wiki/Broyden%E2%80%93Fletcher%E2%80%93Goldfarb%E2%80%93Shanno_algorithm). Since our problem is small, the specific choice of solver doesn't matter too much."
      ]
    },
    {
      "cell_type": "code",
      "execution_count": null,
      "metadata": {
        "id": "UJsK9jyLvTgg"
      },
      "outputs": [],
      "source": [
        "logreg = linear_model.LogisticRegression(penalty='none',solver='lbfgs')\n",
        "logreg.fit(X, y)\n",
        "betal = np.array([logreg.intercept_[0],logreg.coef_[0,0],logreg.coef_[0,1]])"
      ]
    },
    {
      "cell_type": "markdown",
      "metadata": {
        "id": "F4Kj17gYvTgg"
      },
      "source": [
        "Again we want to predict $y_i = 0$ whenever $h_{\\boldsymbol{\\beta}}(\\mathbf{x}_i) < 1/2$ and $y_i = 1$ otherwise. With some quick algebra, it's not hard to check that this is equivalent to predicting $y_i = 0$ whenever $\\mathbf{x}_i^T\\boldsymbol{\\beta} < 0$ and $y_i = 1$ whenever $\\mathbf{x}_i^T\\boldsymbol{\\beta} \\geq 0$. This is what we do below."
      ]
    },
    {
      "cell_type": "code",
      "execution_count": null,
      "metadata": {
        "id": "GH2YyGaGvTgg"
      },
      "outputs": [],
      "source": [
        "yhat = (Xa@betal[:,None])[:,0]\n",
        "yhatl= (yhat >=0).astype(int) # these are our predicted class labels."
      ]
    },
    {
      "cell_type": "markdown",
      "metadata": {
        "id": "DYJviI5OvTgh"
      },
      "source": [
        "Again we compute the overall accuracy, precision, and recall."
      ]
    },
    {
      "cell_type": "code",
      "execution_count": null,
      "metadata": {
        "scrolled": true,
        "id": "VGcz3MopvTgi",
        "colab": {
          "base_uri": "https://localhost:8080/"
        },
        "outputId": "d0afdede-ba83-44f6-a6df-030daea38b80"
      },
      "outputs": [
        {
          "output_type": "stream",
          "name": "stdout",
          "text": [
            "Accuracy on training data using two features = 0.941435\n",
            "Recall: 0.895397489539749\n",
            "Precision: 0.9344978165938864\n"
          ]
        }
      ],
      "source": [
        "acc = np.mean(yhatl == y)\n",
        "print(\"Accuracy on training data using two features = %f\" % acc)\n",
        "recall = np.sum((yhatl == 1)*(y == 1))/np.sum(y == 1)\n",
        "precision = np.sum((yhatl == 1)*(y == 1))/np.sum(yhatl == 1)\n",
        "print(\"Recall: \" + str(recall))\n",
        "print(\"Precision: \" + str(precision))"
      ]
    },
    {
      "cell_type": "markdown",
      "metadata": {
        "id": "pM5BW7X4vTgi"
      },
      "source": [
        "We improved on both accuracy and recall! And a visual plot of our new linear classifier confirms a better visual fit to the data."
      ]
    },
    {
      "cell_type": "code",
      "execution_count": null,
      "metadata": {
        "scrolled": true,
        "id": "0kvRJcR_vTgi",
        "colab": {
          "base_uri": "https://localhost:8080/",
          "height": 308
        },
        "outputId": "29096dbb-6741-4bb2-a075-caf2137238d5"
      },
      "outputs": [
        {
          "output_type": "execute_result",
          "data": {
            "text/plain": [
              "[<matplotlib.lines.Line2D at 0x7f612e0a0310>]"
            ]
          },
          "metadata": {},
          "execution_count": 31
        },
        {
          "output_type": "display_data",
          "data": {
            "text/plain": [
              "<Figure size 432x288 with 1 Axes>"
            ],
            "image/png": "[encoded data removed]"
          },
          "metadata": {
            "needs_background": "light"
          }
        }
      ],
      "source": [
        "plt = plot_cnt(X,y)\n",
        "x1=np.zeros([11,1])\n",
        "x2=np.zeros([11,1])\n",
        "for i in range(11):\n",
        "    x1[i]=i;\n",
        "    x2[i]=(0-betal[0]-betal[1]*i)/betal[2]\n",
        "\n",
        "plt.plot(x1, x2)"
      ]
    },
    {
      "cell_type": "markdown",
      "metadata": {
        "id": "igDr3mGNvTgi"
      },
      "source": [
        "Finally, we try fitting a logistic regression model with all of the predictor data. Here we do everything with `sklearn`'s built in functions. Not surprisingly, we see a lift in performance."
      ]
    },
    {
      "cell_type": "code",
      "source": [
        "xnames = ['thick','size_unif','shape_unif','marg','cell_size','bare',\n",
        "         'chrom','normal','mit']\n",
        "Xfull = np.array(df[xnames])\n",
        "logreg = linear_model.LogisticRegression(penalty='l2',solver='lbfgs')\n",
        "logreg.fit(Xfull, y)\n",
        "yhatf = logreg.predict(Xfull)\n",
        "acc = np.mean(yhatf == y)\n",
        "print(\"Accuracy on training data using two features = %f\" % acc)\n",
        "recall = np.sum((yhatf == 1)*(y == 1))/np.sum(y == 1)\n",
        "precision = np.sum((yhatf == 1)*(y == 1))/np.sum(yhatf == 1)\n",
        "print(\"Recall: \" + str(recall))\n",
        "print(\"Precision: \" + str(precision))"
      ],
      "metadata": {
        "id": "TN02ezYyxc6M",
        "colab": {
          "base_uri": "https://localhost:8080/"
        },
        "outputId": "34eb3559-5419-43db-ae08-6936a552933e"
      },
      "execution_count": null,
      "outputs": [
        {
          "output_type": "stream",
          "name": "stdout",
          "text": [
            "Accuracy on training data using two features = 0.969253\n",
            "Recall: 0.9539748953974896\n",
            "Precision: 0.957983193277311\n"
          ]
        }
      ]
    },
    {
      "cell_type": "code",
      "source": [],
      "metadata": {
        "id": "zV-xnVQ7xkB9"
      },
      "execution_count": null,
      "outputs": []
    }
  ],
  "metadata": {
    "anaconda-cloud": {},
    "kernelspec": {
      "display_name": "Python 3",
      "language": "python",
      "name": "python3"
    },
    "language_info": {
      "codemirror_mode": {
        "name": "ipython",
        "version": 3
      },
      "file_extension": ".py",
      "mimetype": "text/x-python",
      "name": "python",
      "nbconvert_exporter": "python",
      "pygments_lexer": "ipython3",
      "version": "3.7.4"
    },
    "colab": {
      "provenance": []
    }
  },
  "nbformat": 4,
  "nbformat_minor": 0
}