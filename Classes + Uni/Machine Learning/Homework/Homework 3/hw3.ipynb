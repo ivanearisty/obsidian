{
 "cells": [
  {
   "cell_type": "code",
   "execution_count": 1,
   "id": "885f4498",
   "metadata": {},
   "outputs": [],
   "source": [
    "import numpy as np\n",
    "import pandas as pd"
   ]
  },
  {
   "cell_type": "code",
   "execution_count": 2,
   "id": "be7fc0af",
   "metadata": {},
   "outputs": [],
   "source": [
    "# 1.a\n",
    "I1 = np.array([\n",
    "    [0, 0, 0, 0, 0],\n",
    "    [0, 1, 1, 1, 0],\n",
    "    [0, 1, 0, 1, 0],\n",
    "    [0, 1, 1, 1, 0],\n",
    "    [0, 0, 0, 0, 0]\n",
    "])\n",
    "I2 = np.array([\n",
    "    [0, 0, 0, 0, 0],\n",
    "    [0, 0, 1, 0, 0],\n",
    "    [0, 0, 1, 0, 0],\n",
    "    [0, 0, 1, 0, 0],\n",
    "    [0, 0, 0, 0, 0]\n",
    "])\n",
    "I3 = np.array([\n",
    "    [0, 0, 0, 0, 0],\n",
    "    [1, 1, 1, 0, 0],\n",
    "    [1, 0, 1, 0, 0],\n",
    "    [1, 1, 1, 0, 0],\n",
    "    [0, 0, 0, 0, 0]\n",
    "])\n",
    "I4 = np.array([\n",
    "    [0, 0, 0, 0, 0],\n",
    "    [0, 0, 0, 1, 0],\n",
    "    [0, 0, 0, 1, 0],\n",
    "    [0, 0, 0, 1, 0],\n",
    "    [0, 0, 0, 0, 0]\n",
    "])"
   ]
  },
  {
   "cell_type": "code",
   "execution_count": 3,
   "id": "da57e758",
   "metadata": {},
   "outputs": [],
   "source": [
    "# Vectorize the images\n",
    "images = [I1, I2, I3, I4]\n",
    "vectors = [img.flatten() for img in images]"
   ]
  },
  {
   "cell_type": "code",
   "execution_count": 4,
   "id": "0ac98183",
   "metadata": {},
   "outputs": [
    {
     "data": {
      "text/plain": [
       "[array([0, 0, 0, 0, 0, 0, 1, 1, 1, 0, 0, 1, 0, 1, 0, 0, 1, 1, 1, 0, 0, 0,\n",
       "        0, 0, 0]),\n",
       " array([0, 0, 0, 0, 0, 0, 0, 1, 0, 0, 0, 0, 1, 0, 0, 0, 0, 1, 0, 0, 0, 0,\n",
       "        0, 0, 0]),\n",
       " array([0, 0, 0, 0, 0, 1, 1, 1, 0, 0, 1, 0, 1, 0, 0, 1, 1, 1, 0, 0, 0, 0,\n",
       "        0, 0, 0]),\n",
       " array([0, 0, 0, 0, 0, 0, 0, 0, 1, 0, 0, 0, 0, 1, 0, 0, 0, 0, 1, 0, 0, 0,\n",
       "        0, 0, 0])]"
      ]
     },
     "execution_count": 4,
     "metadata": {},
     "output_type": "execute_result"
    }
   ],
   "source": [
    "vectors"
   ]
  },
  {
   "cell_type": "code",
   "execution_count": 5,
   "id": "74f27a54",
   "metadata": {},
   "outputs": [],
   "source": [
    "n = len(vectors)\n",
    "d2 = np.zeros((n, n))\n",
    "for i in range(n):\n",
    "    for j in range(n):\n",
    "        diff = vectors[i] - vectors[j]\n",
    "        d2[i, j] = np.dot(diff, diff)\n",
    "\n",
    "# Gaussian kernel: k(x, y) = exp(-||x-y||^2 / 2)\n",
    "K = np.exp(-d2 / 2)"
   ]
  },
  {
   "cell_type": "code",
   "execution_count": 6,
   "id": "6c9ef385",
   "metadata": {},
   "outputs": [],
   "source": [
    "K_df = pd.DataFrame(K, index=[f\"I{i+1}\" for i in range(n)], columns=[f\"I{j+1}\" for j in range(n)])"
   ]
  },
  {
   "cell_type": "code",
   "execution_count": 7,
   "id": "4351f814",
   "metadata": {},
   "outputs": [
    {
     "data": {
      "text/html": [
       "<div>\n",
       "<style scoped>\n",
       "    .dataframe tbody tr th:only-of-type {\n",
       "        vertical-align: middle;\n",
       "    }\n",
       "\n",
       "    .dataframe tbody tr th {\n",
       "        vertical-align: top;\n",
       "    }\n",
       "\n",
       "    .dataframe thead th {\n",
       "        text-align: right;\n",
       "    }\n",
       "</style>\n",
       "<table border=\"1\" class=\"dataframe\">\n",
       "  <thead>\n",
       "    <tr style=\"text-align: right;\">\n",
       "      <th></th>\n",
       "      <th>I1</th>\n",
       "      <th>I2</th>\n",
       "      <th>I3</th>\n",
       "      <th>I4</th>\n",
       "    </tr>\n",
       "  </thead>\n",
       "  <tbody>\n",
       "    <tr>\n",
       "      <th>I1</th>\n",
       "      <td>1.000000</td>\n",
       "      <td>0.030197</td>\n",
       "      <td>0.018316</td>\n",
       "      <td>0.082085</td>\n",
       "    </tr>\n",
       "    <tr>\n",
       "      <th>I2</th>\n",
       "      <td>0.030197</td>\n",
       "      <td>1.000000</td>\n",
       "      <td>0.082085</td>\n",
       "      <td>0.049787</td>\n",
       "    </tr>\n",
       "    <tr>\n",
       "      <th>I3</th>\n",
       "      <td>0.018316</td>\n",
       "      <td>0.082085</td>\n",
       "      <td>1.000000</td>\n",
       "      <td>0.004087</td>\n",
       "    </tr>\n",
       "    <tr>\n",
       "      <th>I4</th>\n",
       "      <td>0.082085</td>\n",
       "      <td>0.049787</td>\n",
       "      <td>0.004087</td>\n",
       "      <td>1.000000</td>\n",
       "    </tr>\n",
       "  </tbody>\n",
       "</table>\n",
       "</div>"
      ],
      "text/plain": [
       "          I1        I2        I3        I4\n",
       "I1  1.000000  0.030197  0.018316  0.082085\n",
       "I2  0.030197  1.000000  0.082085  0.049787\n",
       "I3  0.018316  0.082085  1.000000  0.004087\n",
       "I4  0.082085  0.049787  0.004087  1.000000"
      ]
     },
     "execution_count": 7,
     "metadata": {},
     "output_type": "execute_result"
    }
   ],
   "source": [
    "K_df"
   ]
  },
  {
   "cell_type": "code",
   "execution_count": 11,
   "id": "fb5e9bf2",
   "metadata": {},
   "outputs": [],
   "source": [
    "#1.c\n",
    "def get_shifts(img):\n",
    "    right_shift = img[:, :-1].flatten()  # drop far right column\n",
    "    left_shift  = img[:, 1:].flatten()   # drop far left column\n",
    "    return right_shift, left_shift"
   ]
  },
  {
   "cell_type": "code",
   "execution_count": null,
   "id": "a7464791",
   "metadata": {},
   "outputs": [],
   "source": [
    "# list comprehension shenanigans\n",
    "shifted = [get_shifts(img) for img in images]"
   ]
  },
  {
   "cell_type": "code",
   "execution_count": null,
   "id": "24e82b32",
   "metadata": {},
   "outputs": [],
   "source": [
    "# regular gaussian kernel\n",
    "def kG(u, v):\n",
    "    d2 = np.dot(u - v, u - v)\n",
    "    return np.exp(-d2 / 2)\n"
   ]
  },
  {
   "cell_type": "code",
   "execution_count": null,
   "id": "6e9c2dd9",
   "metadata": {},
   "outputs": [],
   "source": [
    "n = len(images)\n",
    "K_shift = np.zeros((n, n))\n",
    "# for ever image\n",
    "for i in range(n):\n",
    "    # get the shifted images\n",
    "    r_i, l_i = shifted[i]\n",
    "    # for every shifted imag\n",
    "    for j in range(n):\n",
    "        # get the actual shifts\n",
    "        r_j, l_j = shifted[j]\n",
    "        # and compute by getting the similarity of the 4 combinations\n",
    "        # interesting to note that by adding more shifts, combinations would\n",
    "        # increase exponentially, and so the kernel would be more expensive\n",
    "        # i think\n",
    "        K_shift[i, j] = (\n",
    "            kG(r_i, r_j) +\n",
    "            kG(l_i, l_j) +\n",
    "            kG(r_i, l_j) +\n",
    "            kG(l_i, r_j)\n",
    "        )\n"
   ]
  },
  {
   "cell_type": "code",
   "execution_count": null,
   "id": "98a462db",
   "metadata": {},
   "outputs": [
    {
     "data": {
      "text/html": [
       "<div>\n",
       "<style scoped>\n",
       "    .dataframe tbody tr th:only-of-type {\n",
       "        vertical-align: middle;\n",
       "    }\n",
       "\n",
       "    .dataframe tbody tr th {\n",
       "        vertical-align: top;\n",
       "    }\n",
       "\n",
       "    .dataframe thead th {\n",
       "        text-align: right;\n",
       "    }\n",
       "</style>\n",
       "<table border=\"1\" class=\"dataframe\">\n",
       "  <thead>\n",
       "    <tr style=\"text-align: right;\">\n",
       "      <th></th>\n",
       "      <th>I1</th>\n",
       "      <th>I2</th>\n",
       "      <th>I3</th>\n",
       "      <th>I4</th>\n",
       "    </tr>\n",
       "  </thead>\n",
       "  <tbody>\n",
       "    <tr>\n",
       "      <th>I1</th>\n",
       "      <td>2.036631</td>\n",
       "      <td>0.224565</td>\n",
       "      <td>1.130598</td>\n",
       "      <td>0.198454</td>\n",
       "    </tr>\n",
       "    <tr>\n",
       "      <th>I2</th>\n",
       "      <td>0.224565</td>\n",
       "      <td>2.099574</td>\n",
       "      <td>0.498477</td>\n",
       "      <td>1.149361</td>\n",
       "    </tr>\n",
       "    <tr>\n",
       "      <th>I3</th>\n",
       "      <td>1.130598</td>\n",
       "      <td>0.498477</td>\n",
       "      <td>2.164170</td>\n",
       "      <td>0.122803</td>\n",
       "    </tr>\n",
       "    <tr>\n",
       "      <th>I4</th>\n",
       "      <td>0.198454</td>\n",
       "      <td>1.149361</td>\n",
       "      <td>0.122803</td>\n",
       "      <td>2.099574</td>\n",
       "    </tr>\n",
       "  </tbody>\n",
       "</table>\n",
       "</div>"
      ],
      "text/plain": [
       "          I1        I2        I3        I4\n",
       "I1  2.036631  0.224565  1.130598  0.198454\n",
       "I2  0.224565  2.099574  0.498477  1.149361\n",
       "I3  1.130598  0.498477  2.164170  0.122803\n",
       "I4  0.198454  1.149361  0.122803  2.099574"
      ]
     },
     "execution_count": 15,
     "metadata": {},
     "output_type": "execute_result"
    }
   ],
   "source": [
    "K_shift_df = pd.DataFrame(\n",
    "    np.round(K_shift, 6),\n",
    "    index=[f\"I{i+1}\" for i in range(n)],\n",
    "    columns=[f\"I{j+1}\" for j in range(n)]\n",
    ")\n",
    "K_shift_df"
   ]
  },
  {
   "cell_type": "code",
   "execution_count": 40,
   "id": "75a0a7b5",
   "metadata": {},
   "outputs": [],
   "source": [
    "import matplotlib.pyplot as plt\n",
    "from scipy.linalg import svd"
   ]
  },
  {
   "cell_type": "code",
   "execution_count": null,
   "id": "23552e69",
   "metadata": {},
   "outputs": [],
   "source": [
    "cities = []\n",
    "dist_matrix = []\n",
    "\n",
    "with open('UScities.txt') as f:\n",
    "    for line in f:\n",
    "        tokens = line.strip().split()\n",
    "        dists = list(map(float, tokens[-20:]))\n",
    "        city = ' '.join(tokens[:-20])\n",
    "        cities.append(city)\n",
    "        dist_matrix.append(dists)\n",
    "\n"
   ]
  },
  {
   "cell_type": "code",
   "execution_count": 202,
   "id": "0176678e",
   "metadata": {},
   "outputs": [],
   "source": [
    "D = np.array(dist_matrix)\n"
   ]
  },
  {
   "cell_type": "code",
   "execution_count": 203,
   "id": "349fa6c1",
   "metadata": {},
   "outputs": [],
   "source": [
    "import random\n",
    "r = 0.3\n",
    "for i in range(n):\n",
    "    for j in range(i+1, n):\n",
    "        factor = np.random.uniform(1-r, 1+r)\n",
    "        new_dist = D[i, j] * factor\n",
    "        D[i, j] = D[j, i] = new_dist"
   ]
  },
  {
   "cell_type": "code",
   "execution_count": 204,
   "id": "2ba3e0e6",
   "metadata": {},
   "outputs": [],
   "source": [
    "D2 = D ** 2\n",
    "n = D2.shape[0]"
   ]
  },
  {
   "cell_type": "code",
   "execution_count": 205,
   "id": "6c90afe8",
   "metadata": {},
   "outputs": [],
   "source": [
    "# squared distance from city i to city 1\n",
    "d = D2[:, 0]"
   ]
  },
  {
   "cell_type": "code",
   "execution_count": 206,
   "id": "0f304683",
   "metadata": {},
   "outputs": [],
   "source": [
    "# build the matrix \n",
    "XXT = 0.5 * (d[:, None] + d[None, :] - D2)"
   ]
  },
  {
   "cell_type": "code",
   "execution_count": 207,
   "id": "3fcaca87",
   "metadata": {},
   "outputs": [],
   "source": [
    "# Perform SVD\n",
    "U, S, Vt = svd(XXT)"
   ]
  },
  {
   "cell_type": "code",
   "execution_count": 208,
   "id": "caacda5f",
   "metadata": {},
   "outputs": [],
   "source": [
    "# top 2\n",
    "U_k = U[:, :2]\n",
    "S_k = S[:2]\n",
    "# Vt_k = Vt[:2, :]"
   ]
  },
  {
   "cell_type": "code",
   "execution_count": 211,
   "id": "7304ff9d",
   "metadata": {},
   "outputs": [],
   "source": [
    "Z_plot = U_k * np.sqrt(S_k)\n",
    "# fix plot direction\n",
    "Z_plot[:, 1] *= -1"
   ]
  },
  {
   "cell_type": "code",
   "execution_count": 212,
   "id": "caa5f218",
   "metadata": {},
   "outputs": [
    {
     "data": {
      "image/png": "[encoded data removed]",
      "text/plain": [
       "<Figure size 800x600 with 1 Axes>"
      ]
     },
     "metadata": {},
     "output_type": "display_data"
    }
   ],
   "source": [
    "plt.figure(figsize=(8, 6))\n",
    "plt.scatter(Z_plot[:, 0], Z_plot[:, 1], s=50)\n",
    "for i, city in enumerate(cities):\n",
    "    plt.text(Z_plot[i, 0], Z_plot[i, 1], city, fontsize=9)\n",
    "plt.xlabel('Component 1')\n",
    "plt.ylabel('Component 2')\n",
    "plt.axis('equal')\n",
    "plt.show()\n"
   ]
  },
  {
   "cell_type": "code",
   "execution_count": null,
   "id": "07535c54",
   "metadata": {},
   "outputs": [],
   "source": []
  },
  {
   "cell_type": "code",
   "execution_count": null,
   "id": "0d691167",
   "metadata": {},
   "outputs": [],
   "source": []
  }
 ],
 "metadata": {
  "kernelspec": {
   "display_name": "Homework 3",
   "language": "python",
   "name": "python3"
  },
  "language_info": {
   "codemirror_mode": {
    "name": "ipython",
    "version": 3
   },
   "file_extension": ".py",
   "mimetype": "text/x-python",
   "name": "python",
   "nbconvert_exporter": "python",
   "pygments_lexer": "ipython3",
   "version": "3.11.11"
  }
 },
 "nbformat": 4,
 "nbformat_minor": 5
}
